{
  "cells": [
    {
      "cell_type": "code",
      "execution_count": null,
      "metadata": {},
      "outputs": [],
      "source": [
        "import re"
      ]
    },
    {
      "cell_type": "code",
      "execution_count": null,
      "metadata": {},
      "outputs": [],
      "source": [
        "\n",
        "# Matching Zero or One\n",
        "\n",
        "rand_str = \"cat cats\"\n",
        "regex = re.compile(\"[cat]+s?\")\n",
        "matches = re.findall(regex, rand_str)\n",
        "# Match cat or cats\n",
        "print(\"Matches :\", len(matches))\n",
        "for i in matches:\n",
        "    print(i)\n"
      ]
    },
    {
      "cell_type": "code",
      "execution_count": null,
      "metadata": {},
      "outputs": [],
      "source": [
        "\n",
        "# Matching Zero or More\n",
        "\n",
        "rand_str_2 = \"doctor doctors doctor's\"\n",
        "\n",
        "# Match doctor doctors or doctor's\n",
        "regex = re.compile(\"[doctor]+['s]*\")\n",
        "matches = re.findall(regex, rand_str_2)\n",
        "print(\"Matches :\", len(matches))\n"
      ]
    },
    {
      "cell_type": "code",
      "execution_count": null,
      "metadata": {},
      "outputs": [],
      "source": [
        "\n",
        "# You can do the same by setting an interval match\n",
        "regex = re.compile(\"[doctor]+['s]{0,2}\")\n",
        "matches = re.findall(regex, rand_str_2)\n",
        "print(\"Matches :\", len(matches))\n",
        "for i in matches:\n",
        "    print(i)\n"
      ]
    },
    {
      "cell_type": "code",
      "execution_count": null,
      "metadata": {},
      "outputs": [],
      "source": [
        "\n",
        "# Python Problem for you to Solve\n",
        "\n",
        "# On Windows newlines are some times \\n and other times \\r\\n\n",
        "\n",
        "# Create a regex that will grab each of the lines in this string, print out the number of matches and each line.\n",
        "\n",
        "long_str = '''Just some words\n",
        "and some more\\r\n",
        "and more\n",
        "'''\n",
        "\n",
        "print(\"Matches :\", len(re.findall(r\"[\\w\\s]+[\\r]?\\n\", long_str)))\n",
        "matches = re.findall(\"[\\w\\s]+[\\r]?\\n\", long_str)\n",
        "for i in matches:\n",
        "    print(i)\n"
      ]
    },
    {
      "cell_type": "code",
      "execution_count": null,
      "metadata": {},
      "outputs": [],
      "source": [
        "\n",
        "# Greedy & Lazy Matching\n",
        "\n",
        "rand_str_3 = \"<name>Life On Mars</name><name>Freaks and Geeks</name>\"\n",
        "\n",
        "# Let's try to grab everything between <name> tags\n",
        "# Because * is greedy (It grabs the biggest match possible)\n",
        "# we can't get what we want, which is each individual tag\n",
        "# match\n",
        "regex = re.compile(r\"<name>.*</name>\")\n",
        "matches = re.findall(regex, rand_str_3)\n",
        "print(\"Matches :\", len(matches))\n",
        "for i in matches:\n",
        "    print(i)\n"
      ]
    },
    {
      "cell_type": "code",
      "execution_count": null,
      "metadata": {},
      "outputs": [],
      "source": [
        "\n",
        "# We want to grab the smallest match we use *?, +?, or\n",
        "# {n,}? instead\n",
        "regex = re.compile(r\"<name>.*?</name>\")\n",
        "matches = re.findall(regex, rand_str_3)\n",
        "print(\"Matches :\", len(matches))\n",
        "for i in matches:\n",
        "    print(i)\n"
      ]
    },
    {
      "cell_type": "code",
      "execution_count": null,
      "metadata": {},
      "outputs": [],
      "source": [
        "\n",
        "# Word Boundaries\n",
        "\n",
        "# We use word boundaries to define where our matches start and end\n",
        "\n",
        "# \\b matches the start or end of a word\n",
        "# If we want ape it will match ape and the beginning of apex\n",
        "\n",
        "rand_str_4 = \"ape at the apex\"\n",
        "regex = re.compile(r\"ape\")\n"
      ]
    },
    {
      "cell_type": "code",
      "execution_count": null,
      "metadata": {},
      "outputs": [],
      "source": [
        "\n",
        "# If we use the word boundary\n",
        "regex = re.compile(r\"\\bape\\b\")\n",
        "matches = re.findall(regex, rand_str_4)\n",
        "print(\"Matches :\", len(matches))\n",
        "for i in matches:\n",
        "    print(i)"
      ]
    }
  ],
  "metadata": {
    "anaconda-cloud": {},
    "kernelspec": {
      "display_name": "Python 3",
      "language": "python",
      "name": "python3"
    },
    "language_info": {
      "codemirror_mode": {
        "name": "ipython",
        "version": 3
      },
      "file_extension": ".py",
      "mimetype": "text/x-python",
      "name": "python",
      "nbconvert_exporter": "python",
      "pygments_lexer": "ipython3",
      "version": "3.6.1"
    }
  },
  "nbformat": 4,
  "nbformat_minor": 4
}
