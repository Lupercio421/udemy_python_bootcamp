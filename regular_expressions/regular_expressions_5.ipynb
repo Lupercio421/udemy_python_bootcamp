{
  "cells": [
    {
      "cell_type": "markdown",
      "metadata": {},
      "source": [
        "## Regular Expressions: Back References, Look Ahead/Behind"
      ]
    },
    {
      "cell_type": "code",
      "execution_count": null,
      "metadata": {},
      "outputs": [],
      "source": [
        "import re\n",
        "from functools import reduce"
      ]
    },
    {
      "cell_type": "code",
      "execution_count": null,
      "metadata": {},
      "outputs": [],
      "source": [
        "# Back References\n",
        "# A back reference allows you to to reuse the expression that proceeds it\n",
        "\n",
        "# Grab a double word\n",
        "rand_str = \"The cat cat fell out the window\"\n",
        "\n",
        "# Match a word boundary, 1 or more characters followed\n",
        "# by a space if it is then followed by the same\n",
        "# match that is surrounded by the parentheses\n",
        "regex = re.compile(r\"(\\b\\w+)\\s+\\1\")\n",
        "\n",
        "matches = re.findall(regex, rand_str)\n",
        "\n",
        "print(\"Matches :\", len(matches))\n",
        "\n",
        "for i in matches:\n",
        "    print(i)\n"
      ]
    },
    {
      "cell_type": "code",
      "execution_count": null,
      "metadata": {},
      "outputs": [],
      "source": [
        "\n",
        "# Back Reference Substitutions\n",
        "\n",
        "# Replace the bold tags in the link with no tags\n",
        "rand_str = \"<a href='#'><b>The Link</b></a>\"\n",
        "\n",
        "# Regex matches bold tags and grabs the text between\n",
        "# them to be used by the back reference\n",
        "regex = re.compile(r\"<b>(.*?)</b>\")\n",
        "\n",
        "# Replace the tags with just the text between them\n",
        "rand_str = re.sub(regex, r\"\\1\", rand_str)\n",
        "\n",
        "print(rand_str)"
      ]
    },
    {
      "cell_type": "code",
      "execution_count": null,
      "metadata": {},
      "outputs": [],
      "source": [
        "# Another Back Reference Substitution\n",
        "\n",
        "# Receive this string\n",
        "rand_str = \"412-555-1212\"\n",
        "\n",
        "# Match the phone number using multiple subexpressions\n",
        "regex = re.compile(r\"([\\d]{3})-([\\d]{3}-[\\d]{4})\")\n",
        "\n",
        "# Output (412)555-1212\n",
        "rand_str = re.sub(regex, r\"(\\1)\\2\", rand_str)\n",
        "\n",
        "print(rand_str)\n"
      ]
    },
    {
      "cell_type": "code",
      "execution_count": null,
      "metadata": {},
      "outputs": [],
      "source": [
        "\n",
        "# Python Problem for you to Solve\n",
        "\n",
        "# To solve this problem I want you to receive a string like this :\n",
        "rand_str = \"https://www.youtube.com http://www.google.com\"\n",
        "\n",
        "# And, then Grab the URL and provide the following output using a back reference substitution :\n",
        "\n",
        "# <a href='https://www.youtube.com'>www.youtube.com</a>\n",
        "# <a href='https://www.google.com'>www.google.com</a>\n",
        "\n",
        "# Solution\n",
        "\n",
        "regex = re.compile(r\"(https?://([\\w.]+))\")\n",
        "\n",
        "rand_str = re.sub(regex, r\"<a href='\\1'>\\2</a>\\n\", rand_str)\n",
        "\n",
        "print(rand_str)\n"
      ]
    },
    {
      "cell_type": "code",
      "execution_count": null,
      "metadata": {},
      "outputs": [],
      "source": [
        "\n",
        "# Look Ahead\n",
        "\n",
        "# A look ahead defines a pattern to match but not return. You define the expression to look for but not return like this (?=expression)\n",
        "\n",
        "rand_str = \"One two three four\"\n",
        "\n",
        "# Grab all letters and numbers of 1 or more separated\n",
        "# by a word boundary but don't include it\n",
        "regex = re.compile(r\"\\w+(?=\\b)\")\n",
        "\n",
        "matches = re.findall(regex, rand_str)\n",
        "\n",
        "for i in matches:\n",
        "    print(i)\n"
      ]
    },
    {
      "cell_type": "code",
      "execution_count": null,
      "metadata": {},
      "outputs": [],
      "source": [
        "\n",
        "# Look Behind\n",
        "\n",
        "# The look behind looks for what is before the text to return, but doesn't return it. It is defined like (?<=expression)\n",
        "\n",
        "rand_str = \"1. Bread 2. Apples 3. Lettuce\"\n",
        "\n",
        "# Find the number, period and space, but only return\n",
        "# the 1 or more letters or numbers that follow\n",
        "regex = re.compile(r\"(?<=\\d.\\s)\\w+\")\n",
        "\n",
        "matches = re.findall(regex, rand_str)\n",
        "\n",
        "for i in matches:\n",
        "    print(i)\n"
      ]
    },
    {
      "cell_type": "code",
      "execution_count": null,
      "metadata": {},
      "outputs": [],
      "source": [
        "\n",
        "# Look Ahead & Behind\n",
        "\n",
        "rand_str = \"<h1>I'm Important</h1> <h1>So am I</h1>\"\n",
        "\n",
        "# Use the look behind, get 1 or more of anything,\n",
        "# and use the look ahead\n",
        "regex = re.compile(r\"(?<=<h1>).+?(?=</h1>)\")\n",
        "\n",
        "matches = re.findall(regex, rand_str)\n",
        "\n",
        "for i in matches:\n",
        "    print(i)\n"
      ]
    },
    {
      "cell_type": "code",
      "execution_count": null,
      "metadata": {},
      "outputs": [],
      "source": [
        "\n",
        "# Negative Look Ahead & Behind\n",
        "\n",
        "# These are used to look for text that doesn't match the pattern\n",
        "\n",
        "# (?!expression) : Negative Look Ahead\n",
        "# (?<!expression) : Negative Look Behind\n",
        "\n",
        "rand_str = \"8 Apples $3, 1 Bread $1, 1 Cereal $4\"\n",
        "\n",
        "# Grab the total number of grocery items by ignoring the $\n",
        "regex = re.compile(r\"(?<!\\$)\\d+\")\n",
        "\n",
        "matches = re.findall(regex, rand_str)\n",
        "\n",
        "print(len(matches))\n"
      ]
    },
    {
      "cell_type": "code",
      "execution_count": null,
      "metadata": {},
      "outputs": [],
      "source": [
        "\n",
        "# Convert from a string list to an int list\n",
        "matches = [int(i) for i in matches]\n",
        "\n",
        "# Sum the items in the list with reduce\n",
        "print(\"Total Items {}\".format(reduce((lambda x, y: x + y), matches)))\n"
      ]
    }
  ],
  "metadata": {
    "anaconda-cloud": {},
    "kernelspec": {
      "display_name": "Python 3",
      "language": "python",
      "name": "python3"
    },
    "language_info": {
      "codemirror_mode": {
        "name": "ipython",
        "version": 3
      },
      "file_extension": ".py",
      "mimetype": "text/x-python",
      "name": "python",
      "nbconvert_exporter": "python",
      "pygments_lexer": "ipython3",
      "version": "3.6.1"
    }
  },
  "nbformat": 4,
  "nbformat_minor": 4
}
