{
  "cells": [
    {
      "cell_type": "code",
      "execution_count": null,
      "metadata": {},
      "outputs": [],
      "source": [
        "import re"
      ]
    },
    {
      "cell_type": "code",
      "execution_count": null,
      "metadata": {},
      "outputs": [],
      "source": [
        "# We saw that . matches any character, but what if we want to match a period\n",
        "# Backslash the period. You do the same with [, ] and others.\n",
        "rand_str = \"F.B.I. I.R.S. CIA\"\n",
        "print(\"Matches :\", len(re.findall(\".\\..\\..\", rand_str)))"
      ]
    },
    {
      "cell_type": "code",
      "execution_count": null,
      "metadata": {},
      "outputs": [],
      "source": [
        "\n",
        "# We can match many whitespace characters\n",
        "rand_str = \"\"\"This is a long\n",
        "string that goes\n",
        "on for many lines\"\"\"\n",
        "\n",
        "print(rand_str)"
      ]
    },
    {
      "cell_type": "code",
      "execution_count": null,
      "metadata": {},
      "outputs": [],
      "source": [
        "# Remove newlines\n",
        "regex = re.compile(\"\\n\")\n",
        "\n",
        "rand_str = regex.sub(\" \", rand_str)\n",
        "\n",
        "print(rand_str)"
      ]
    },
    {
      "cell_type": "code",
      "execution_count": null,
      "metadata": {},
      "outputs": [],
      "source": [
        "\n",
        "# You can also match\n",
        "# \\b : Backspace\n",
        "# \\f : Form Feed\n",
        "# \\r : Carriage Return\n",
        "# \\t : Tab\n",
        "# \\v : Vertical Tab\n",
        "# You may need to remove \\r\\n on Windows\n",
        "\n",
        "# Matching Any Single Number\n",
        "\n",
        "# \\d can be used instead of [0-9]\n",
        "# \\D is the same as [^0-9]\n",
        "rand_str = \"12345\"\n",
        "print(\"Matches :\", len(re.findall(\"\\d\", rand_str)))"
      ]
    },
    {
      "cell_type": "code",
      "execution_count": null,
      "metadata": {},
      "outputs": [],
      "source": [
        "\n",
        "# Matching Multiple Numbers\n",
        "\n",
        "# You can match multiple digits by following the \\d with {numOfValues}\n",
        "# Match 5 numbers only\n",
        "if re.search(\"\\d{5}\", \"12345\"):\n",
        "    print(\"It is a zip code\")"
      ]
    },
    {
      "cell_type": "code",
      "execution_count": null,
      "metadata": {},
      "outputs": [],
      "source": [
        "# You can also match within a range\n",
        "# Match values that are between 5 and 7 digits\n",
        "num_str = \"123 12345 123456 1234567\"\n",
        "\n",
        "print(\"Matches :\", len(re.findall(\"\\d{5,7}\", num_str)))"
      ]
    },
    {
      "cell_type": "code",
      "execution_count": null,
      "metadata": {},
      "outputs": [],
      "source": [
        "\n",
        "# Matching Any Single Letter or Number\n",
        "# \\w is the same as [a-zA-Z0-9_]\n",
        "# \\W is the same as [^a-zA-Z0-9_]\n",
        "\n",
        "ph_num = \"412-555-1212\"\n",
        "\n",
        "# Check if it is a phone number\n",
        "if re.search(\"\\w{3}-\\w{3}-\\w{4}\", ph_num):\n",
        "    print(\"It is a phone number\")\n",
        "\n",
        "# Check for valid first name between 2 and 20 characters\n",
        "if re.search(\"\\w{2,20}\", \"Ultraman\"):\n",
        "    print(\"It is a valid name\")\n"
      ]
    },
    {
      "cell_type": "code",
      "execution_count": null,
      "metadata": {},
      "outputs": [],
      "source": [
        "\n",
        "# Matching WhiteSpace\n",
        "# \\s is the same as [\\f\\n\\r\\t\\v]\n",
        "# \\S is the same as [^\\f\\n\\r\\t\\v]\n",
        "\n",
        "# Check for valid first and last name with a space\n",
        "if re.search(\"\\w{2,20}\\s\\w{2,20}\", \"Toshio Muramatsu\"):\n",
        "    print(\"It is a valid full name\")\n"
      ]
    },
    {
      "cell_type": "code",
      "execution_count": null,
      "metadata": {},
      "outputs": [],
      "source": [
        "\n",
        "# Matching One or More\n",
        "\n",
        "# + matches 1 or more characters\n",
        "# Match a followed by 1 or more characters\n",
        "print(\"Matches :\", len(re.findall(\"a+\", \"a as ape bug\")))"
      ]
    },
    {
      "cell_type": "code",
      "execution_count": null,
      "metadata": {},
      "outputs": [],
      "source": [
        "# Python Problem for you to Solve\n",
        "\n",
        "# Create a Regex that matches email addresses from a list. Translate the following rules into a Regex.\n",
        "\n",
        "# 1. 1 to 20 lowercase and uppercase letters, numbers, plus ._%+-\n",
        "# 2. An @ symbol\n",
        "# 3. 2 to 20 lowercase and uppercase letters, numbers, plus .-\n",
        "# 4. A period\n",
        "# 5. 2 to 3 lowercase and uppercase letters\n",
        "\n",
        "emailList = \"db@aol.com m@.com @apple.com db@.com\"\n",
        "\n",
        "print(\"Email Matches :\", len(re.findall(\"[\\w._%+-]{1,20}@[\\w.-]{2,20}.[A-Za-z]{2,3}\", emailList)))"
      ]
    }
  ],
  "metadata": {
    "anaconda-cloud": {},
    "kernelspec": {
      "display_name": "Python 3",
      "language": "python",
      "name": "python3"
    },
    "language_info": {
      "codemirror_mode": {
        "name": "ipython",
        "version": 3
      },
      "file_extension": ".py",
      "mimetype": "text/x-python",
      "name": "python",
      "nbconvert_exporter": "python",
      "pygments_lexer": "ipython3",
      "version": "3.6.1"
    }
  },
  "nbformat": 4,
  "nbformat_minor": 4
}
