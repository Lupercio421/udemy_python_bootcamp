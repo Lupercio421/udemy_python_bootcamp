{
  "cells": [
    {
      "cell_type": "markdown",
      "metadata": {},
      "source": [
        "## Regular Expressions: Boundaries & Subexpressions"
      ]
    },
    {
      "cell_type": "code",
      "execution_count": null,
      "metadata": {},
      "outputs": [],
      "source": [
        "import re"
      ]
    },
    {
      "cell_type": "code",
      "execution_count": null,
      "metadata": {},
      "outputs": [],
      "source": [
        "\n",
        "# ^ : Matches the beginning of a string if outside of\n",
        "#     a [ ]\n",
        "# $ : Matches the end of a string\n",
        "\n",
        "# Grab everything from the start of the string to @\n",
        "rand_str = \"Match everything up to @\"\n",
        "\n",
        "regex = re.compile(r\"^.*[^@]\")\n",
        "\n",
        "matches = re.findall(regex, rand_str)\n",
        "\n",
        "print(\"Matches :\", len(matches))\n",
        "\n",
        "for i in matches:\n",
        "    print(i)\n"
      ]
    },
    {
      "cell_type": "code",
      "execution_count": null,
      "metadata": {},
      "outputs": [],
      "source": [
        "# Grab everything from @ to the end of the line\n",
        "rand_str = \"@ Get this string\"\n",
        "\n",
        "regex = re.compile(r\"[^@\\s].*$\")\n",
        "\n",
        "matches = re.findall(regex, rand_str)\n",
        "\n",
        "print(\"Matches :\", len(matches))\n",
        "\n",
        "for i in matches:\n",
        "    print(i)"
      ]
    },
    {
      "cell_type": "code",
      "execution_count": null,
      "metadata": {},
      "outputs": [],
      "source": [
        "# Grab the 1st word of each line using the the multiline\n",
        "# code which allows for the targeting of each line after\n",
        "# a line break with ^\n",
        "rand_str = '''Ape is big\n",
        "Turtle is slow\n",
        "Cheetah is fast'''\n",
        "\n",
        "regex = re.compile(r\"(?m)^.*?\\s\")\n",
        "\n",
        "matches = re.findall(regex, rand_str)\n",
        "\n",
        "print(\"Matches :\", len(matches))\n",
        "\n",
        "for i in matches:\n",
        "    print(i)"
      ]
    },
    {
      "cell_type": "code",
      "execution_count": null,
      "metadata": {},
      "outputs": [],
      "source": [
        "# Subexpressions\n",
        "\n",
        "# Subexpressions are parts of a larger expression.\n",
        "# If you want to match for a large block, but only want to return part of it. To do that surround what you want with ( )\n",
        "\n",
        "# Get just the number minus the area code\n",
        "rand_str = \"My number is 412-555-1212\"\n",
        "\n",
        "regex = re.compile(r\"412-(.*)\")\n",
        "\n",
        "matches = re.findall(regex, rand_str)\n",
        "\n",
        "print(\"Matches :\", len(matches))\n",
        "\n",
        "for i in matches:\n",
        "    print(i)\n"
      ]
    },
    {
      "cell_type": "code",
      "execution_count": null,
      "metadata": {},
      "outputs": [],
      "source": [
        "\n",
        "# Python Problem for you to Solve\n",
        "\n",
        "# Get just the numbers minus the area codes from this string to solve this problem.\n",
        "\n",
        "rand_str = \"412-555-1212 412-555-1213 412-555-1214\"\n",
        "\n",
        "# Solution\n",
        "\n",
        "rand_str = \"412-555-1212 412-555-1213 412-555-1214\"\n",
        "regex = re.compile(r\"412-(.{8})\")\n",
        "\n",
        "matches = re.findall(regex, rand_str)\n",
        "\n",
        "print(\"Matches :\", len(matches))\n",
        "\n",
        "for i in matches:\n",
        "    print(i)\n"
      ]
    },
    {
      "cell_type": "code",
      "execution_count": null,
      "metadata": {},
      "outputs": [],
      "source": [
        "\n",
        "# Multiple Subexpressions\n",
        "\n",
        "# You can have multiple subexpressions as well\n",
        "# Get both numbers that follow 412 separately\n",
        "rand_str = \"My number is 412-555-1212\"\n",
        "\n",
        "regex = re.compile(r\"412-(.*)-(.*)\")\n",
        "\n",
        "matches = re.findall(regex, rand_str)\n",
        "\n",
        "print(\"Matches :\", len(matches))\n",
        "\n",
        "print(matches[0][0])\n",
        "print(matches[0][1])"
      ]
    }
  ],
  "metadata": {
    "anaconda-cloud": {},
    "kernelspec": {
      "display_name": "Python 3",
      "language": "python",
      "name": "python3"
    },
    "language_info": {
      "codemirror_mode": {
        "name": "ipython",
        "version": 3
      },
      "file_extension": ".py",
      "mimetype": "text/x-python",
      "name": "python",
      "nbconvert_exporter": "python",
      "pygments_lexer": "ipython3",
      "version": "3.6.1"
    }
  },
  "nbformat": 4,
  "nbformat_minor": 4
}
