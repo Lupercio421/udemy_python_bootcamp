{
  "cells": [
    {
      "cell_type": "code",
      "execution_count": null,
      "metadata": {},
      "outputs": [],
      "source": [
        "import re"
      ]
    },
    {
      "cell_type": "code",
      "execution_count": null,
      "metadata": {},
      "outputs": [],
      "source": [
        "\n",
        "# Search for an exact string match\n",
        "if re.search(\"ape\", \"The ape was at the apex\"):\n",
        "    print(\"There is an ape\")\n"
      ]
    },
    {
      "cell_type": "code",
      "execution_count": null,
      "metadata": {},
      "outputs": [],
      "source": [
        "\n",
        "# findall() returns a list of matches and . is used to match any 1 character or space\n",
        "# Finditer can be used to return an iterator of matches\n",
        "all_apes = re.findall(\"ape.\", \"The ape was at the apex\")\n",
        "for i in all_apes:\n",
        "    print(i)\n"
      ]
    },
    {
      "cell_type": "code",
      "execution_count": null,
      "metadata": {},
      "outputs": [],
      "source": [
        "\n",
        "# finditer returns an iterator of matching objects\n",
        "# You can use span to get the location\n",
        "the_str = \"The ape was at the apex\"\n",
        "for i in re.finditer(\"ape.\", the_str):\n",
        "\n",
        "    # Span returns a tuple\n",
        "    loc_tuple = i.span()\n",
        "\n",
        "    print(loc_tuple)\n",
        "\n",
        "    # Slice the match out using the tuple values\n",
        "    print(the_str[loc_tuple[0]:loc_tuple[1]])"
      ]
    },
    {
      "cell_type": "code",
      "execution_count": null,
      "metadata": {},
      "outputs": [],
      "source": [
        "\n",
        "# Square brackets will match any one of the characters between the brackets not including upper and lowercase varieties unless they are listed\n",
        "# We can also define characters in a range and define that we want to match anything except a defined number of characters\n",
        "animal_str = \"Cat rat mat fat pat\"\n",
        "all_animals = re.findall(\"[crmfp]at\", animal_str)\n",
        "for i in all_animals:\n",
        "    print(i)\n",
        "\n",
        "print()\n"
      ]
    },
    {
      "cell_type": "code",
      "execution_count": null,
      "metadata": {},
      "outputs": [],
      "source": [
        "\n",
        "# We can also allow for characters in a range\n",
        "# Remember to include upper and lowercase letters\n",
        "some_animals = re.findall(\"[c-mC-M]at\", animal_str)\n",
        "for i in some_animals:\n",
        "    print(i)\n",
        "\n",
        "print()\n"
      ]
    },
    {
      "cell_type": "code",
      "execution_count": null,
      "metadata": {},
      "outputs": [],
      "source": [
        "\n",
        "# Use ^ to denote any character but whatever characters are\n",
        "# between the brackets\n",
        "some_animals = re.findall(\"[^Cr]at\", animal_str)\n",
        "for i in some_animals:\n",
        "    print(i)\n",
        "\n",
        "print()\n"
      ]
    },
    {
      "cell_type": "code",
      "execution_count": null,
      "metadata": {},
      "outputs": [],
      "source": [
        "\n",
        "# You can replace items and define pattern objects\n",
        "owl_food = \"rat cat mat pat\"\n",
        "\n",
        "# You can compile a regex into pattern objects which\n",
        "# provide additional methods\n",
        "regex = re.compile(\"[cr]at\")\n",
        "\n",
        "# sub() replaces items that match the regex in the string\n",
        "# with the 1st attribute string passed to sub\n",
        "owl_food = regex.sub(\"owl\", owl_food)\n",
        "\n",
        "print(owl_food)\n"
      ]
    },
    {
      "cell_type": "code",
      "execution_count": null,
      "metadata": {},
      "outputs": [],
      "source": [
        "\n",
        "# Regex use the backslash to designate special characters and Python does the same inside strings which causes issues\n",
        "# Let's try to get \"\\\\stuff\" out of a string\n",
        "rand_str = \"Here is \\\\stuff\"\n",
        "\n",
        "# This won't find it\n",
        "print(\"Find \\\\stuff : \", re.search(\"\\\\stuff\", rand_str))\n",
        "\n",
        "# This does, but we have to put in 4 slashes which is\n",
        "# messy\n",
        "print(\"Find \\\\stuff : \", re.search(\"\\\\\\\\stuff\", rand_str))\n",
        "\n",
        "# You can get around this by using raw strings which\n",
        "# don't treat backslashes as special\n",
        "print(\"Find \\\\stuff : \", re.search(r\"\\\\stuff\", rand_str))\n",
        "\n"
      ]
    }
  ],
  "metadata": {
    "anaconda-cloud": {},
    "kernelspec": {
      "display_name": "Python 3",
      "language": "python",
      "name": "python3"
    },
    "language_info": {
      "codemirror_mode": {
        "name": "ipython",
        "version": 3
      },
      "file_extension": ".py",
      "mimetype": "text/x-python",
      "name": "python",
      "nbconvert_exporter": "python",
      "pygments_lexer": "ipython3",
      "version": "3.6.1"
    }
  },
  "nbformat": 4,
  "nbformat_minor": 4
}
