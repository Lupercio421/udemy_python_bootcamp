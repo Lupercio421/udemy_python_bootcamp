{
  "cells": [
    {
      "cell_type": "code",
      "execution_count": null,
      "metadata": {},
      "outputs": [],
      "source": [
        "import re\n"
      ]
    },
    {
      "cell_type": "code",
      "execution_count": null,
      "metadata": {},
      "outputs": [],
      "source": [
        "\n",
        "# Or Conditional\n",
        "\n",
        "# You can use | to define the matches you'll except\n",
        "\n",
        "rand_str = \"1. Dog 2. Cat 3. Turtle\"\n",
        "\n",
        "regex = re.compile(r\"\\d\\.\\s(Dog|Cat)\")\n",
        "\n",
        "matches = re.findall(regex, rand_str)\n",
        "\n",
        "print(len(matches))\n",
        "\n",
        "for i in matches:\n",
        "    print(i)\n"
      ]
    },
    {
      "cell_type": "code",
      "execution_count": null,
      "metadata": {},
      "outputs": [],
      "source": [
        "\n",
        "# Python Problem for you to Solve\n",
        "\n",
        "# Create a regex that will match for 5 digit zip codes or zip codes with 5 digits a dash and\n",
        "# then 4 digits. Here is sample data :\n",
        "\n",
        "# rand_str = \"12345 12345-1234 1234 12346-333\"\n",
        "\n",
        "rand_str = \"12345 12345-1234 1234 12346-333\"\n",
        "regex = re.compile(r\"(\\d{5}-\\d{4}|\\d{5}\\s)\")\n",
        "\n",
        "matches = re.findall(regex, rand_str)\n",
        "\n",
        "print(len(matches))\n",
        "\n",
        "for i in matches:\n",
        "    print(i)\n"
      ]
    },
    {
      "cell_type": "code",
      "execution_count": null,
      "metadata": {},
      "outputs": [],
      "source": [
        "\n",
        "# Group\n",
        "\n",
        "# We can use group to retrieve parts of regex matches\n",
        "\n",
        "bd = input(\"Enter your birthday (mm-dd-yyyy) : \")\n",
        "bd_regex = re.search(r\"(\\d{1,2})-(\\d{1,2})-(\\d{4})\", bd)\n",
        "\n",
        "print(\"You were born on\", bd_regex.group())\n",
        "print(\"Birth Month\", bd_regex.group(1))\n",
        "print(\"Birth Day\", bd_regex.group(2))\n",
        "print(\"Birth Year\", bd_regex.group(3))\n",
        "\n",
        "# Match Object Functions\n",
        "\n",
        "# There are functions that provide more information on your matches\n",
        "\n",
        "match = re.search(r\"\\d{2}\", \"The chicken weighed 13 lbs\")\n",
        "\n",
        "# Print the match\n",
        "print(\"Match :\", match.group())\n",
        "\n",
        "# Print the start and ending index of the match\n",
        "print(\"Span :\", match.span())\n",
        "\n",
        "# Print starting index of the match\n",
        "print(\"Match :\", match.start())\n",
        "\n",
        "# Print the ending index of the match\n",
        "print(\"Match :\", match.end())\n"
      ]
    },
    {
      "cell_type": "code",
      "execution_count": null,
      "metadata": {},
      "outputs": [],
      "source": [
        "\n",
        "# Named Groups\n",
        "\n",
        "# You can also assign names to matches\n",
        "\n",
        "rand_str = \"December 21 1974\"\n",
        "\n",
        "regex = r\"^(?P<month>\\w+)\\s(?P<day>\\d+)\\s(?P<year>\\d+)\"\n",
        "\n",
        "matches = re.search(regex, rand_str)\n",
        "\n",
        "print(\"Month :\", matches.group('month'))\n",
        "print(\"Day :\", matches.group('day'))\n",
        "print(\"Year :\", matches.group('year'))\n"
      ]
    },
    {
      "cell_type": "code",
      "execution_count": null,
      "metadata": {},
      "outputs": [],
      "source": [
        "\n",
        "# Python Problem for you to Solve\n",
        "\n",
        "# Find all of the following real email addresses in this sample data.\n",
        "\n",
        "# rand_str = \"d+b@aol.com a_1@yahoo.co.uk A-100@m-b.INTERNATIONAL\"\n",
        "\n",
        "rand_str = \"d+b@aol.com a_1@yahoo.co.uk A-100@m-b.INTERNATIONAL\"\n",
        "regex = re.compile(r\"[a-zA-Z0-9_.+-]+@[a-zA-Z0-9-]+\\.[a-zA-Z0-9-.]+\")\n",
        "\n",
        "matches = re.findall(regex, rand_str)\n",
        "\n",
        "print(len(matches))\n",
        "\n",
        "for i in matches:\n",
        "    print(i)\n"
      ]
    },
    {
      "cell_type": "code",
      "execution_count": null,
      "metadata": {},
      "outputs": [],
      "source": [
        "# Python Problem for you to Solve\n",
        "\n",
        "# For your final Python / Regex problem I want you to match all of the following phone numbers and then print them.\n",
        "\n",
        "# rand_str = \"14125551212 4125551212 (412)5551212 412 555 1212 412-555-1212 1-412-555-1212\"\n",
        "\n",
        "rand_str = \"14125551212 4125551212 (412)5551212 412 555 1212 412-555-1212 1-412-555-1212\"\n",
        "regex = re.compile(r\"((1?)(-| ?)(\\()?(\\d{3})(\\)|-| |\\)-|\\) )?(\\d{3})(-| )?(\\d{4}|\\d{4}))\")\n",
        "\n",
        "matches = re.findall(regex, rand_str)\n",
        "\n",
        "print(len(matches))\n",
        "\n",
        "for i in matches:\n",
        "    print(i[0].lstrip())"
      ]
    }
  ],
  "metadata": {
    "anaconda-cloud": {},
    "kernelspec": {
      "display_name": "Python 3",
      "language": "python",
      "name": "python3"
    },
    "language_info": {
      "codemirror_mode": {
        "name": "ipython",
        "version": 3
      },
      "file_extension": ".py",
      "mimetype": "text/x-python",
      "name": "python",
      "nbconvert_exporter": "python",
      "pygments_lexer": "ipython3",
      "version": "3.6.1"
    }
  },
  "nbformat": 4,
  "nbformat_minor": 4
}
