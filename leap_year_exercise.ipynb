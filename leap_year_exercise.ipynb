{
 "cells": [
  {
   "cell_type": "markdown",
   "metadata": {},
   "source": [
    "A year is considered to be 365 days long. However, a more exact figure is 365.24 days. As a consequence, if we held to the standard 365-day year, we would gradually lose that fraction of the day over time, and seasons and other astronomical events would not occur as expected. A leap year is a year that has an extra day, February 29, to keep the timescale on track. Leap years occur on years that are exactly divisible by 4, unless it is exactly divisible by 100, unless it is divisible by 400. For example, the year 2004 is a leap year, the year 1900 is not a leap year, and the year 2000 is a leap year.\n",
    "Compute the number of leap years between the years 1500 and 2010."
   ]
  },
  {
   "cell_type": "code",
   "execution_count": null,
   "metadata": {},
   "outputs": [],
   "source": []
  },
  {
   "cell_type": "code",
   "execution_count": null,
   "metadata": {},
   "outputs": [],
   "source": [
    "def leap_year_count(start, end):\n",
    "    leap_count = 0\n",
    "    while start <= end:\n",
    "    #unless it is exactly divisible by 100: if statement and use a not equal?\n",
    "        if (start % 4 == 0 and start % 100 != 0):\n",
    "            leap_count += 1\n",
    "        elif (start % 4 == 0 and start % 100 == 0):\n",
    "            leap_count += 1\n",
    "    #unluess it is divisible by 400: if statement abd use a not equal?\n",
    "    return(leap_count)"
   ]
  },
  {
   "cell_type": "code",
   "execution_count": null,
   "metadata": {},
   "outputs": [],
   "source": [
    "def leap_year_count(start, end):\n",
    "    leap_count = 0\n",
    "    if start <= end:\n",
    "        leap_years = [str(x + start) for x in range(end-start) if x % 4 == 0 and x % 100 != 0]\n",
    "        leap_years[-1] += \".\"\n",
    "        leap_count += 1\n",
    "        print(f\"Here is a list of leap years between {start} and {end}:\\n{(', '.join(leap_years))}\")\n",
    "    else:\n",
    "        print(\"Check your input years again!\")\n",
    "    return(leap_count)\n",
    "leap_year_count(1500, 2010)\n"
   ]
  },
  {
   "cell_type": "code",
   "execution_count": null,
   "metadata": {},
   "outputs": [],
   "source": [
    "# Python code to finding number of\n",
    "# leap years in list of years.\n",
    "year = [1500,2010]\n",
    " \n",
    "# Find whether it is leap year or not\n",
    "def checkYear(year):\n",
    "    return (((year % 4 == 0) and\n",
    "             (year % 100 != 0)) or\n",
    "             (year % 400 == 0))\n",
    "  \n",
    "# Answer Initialization\n",
    "Answer = 0\n",
    " \n",
    "for elem in year:\n",
    "    if checkYear(elem):\n",
    "        Answer = Answer + 1\n",
    " \n",
    "# Printing\n",
    "print(\"No of leap years are:\", Answer)"
   ]
  }
 ],
 "metadata": {
  "language_info": {
   "name": "python"
  },
  "orig_nbformat": 4
 },
 "nbformat": 4,
 "nbformat_minor": 2
}
