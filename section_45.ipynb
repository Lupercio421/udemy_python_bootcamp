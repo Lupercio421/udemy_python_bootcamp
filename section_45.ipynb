{
 "cells": [
  {
   "cell_type": "code",
   "execution_count": 1,
   "metadata": {},
   "outputs": [
    {
     "data": {
      "text/plain": [
       "'Hello Data Science'"
      ]
     },
     "execution_count": 1,
     "metadata": {},
     "output_type": "execute_result"
    }
   ],
   "source": [
    "message = \"Hello Data Science\"\n",
    "message"
   ]
  },
  {
   "cell_type": "code",
   "execution_count": null,
   "metadata": {},
   "outputs": [],
   "source": []
  },
  {
   "cell_type": "code",
   "execution_count": 2,
   "metadata": {},
   "outputs": [],
   "source": [
    "import numpy as np\n",
    "import matplotlib.pyplot as plt\n",
    "from numpy import random"
   ]
  },
  {
   "cell_type": "code",
   "execution_count": 3,
   "metadata": {},
   "outputs": [
    {
     "data": {
      "text/plain": [
       "array([[24, 49, 29],\n",
       "       [24, 21, 49]])"
      ]
     },
     "execution_count": 3,
     "metadata": {},
     "output_type": "execute_result"
    }
   ],
   "source": [
    "list_1 = [1,2,3,4,5]\n",
    "np_arr_1 = np.array(list_1, dtype = np.int8)\n",
    "np_arr_1\n",
    "\n",
    "m_list1_1 = [[1,2,3],[4,5,6], [7,8,9]]\n",
    "np_m_arr_1 = np.array(m_list1_1)\n",
    "\n",
    "np.arange(1,10)\n",
    "np.linspace(0,5,5)\n",
    "np.zeros(4)\n",
    "np.ones((2,3))\n",
    "np_arr_1.size\n",
    "np_arr_2 = np.array([1,2,3,4,5,6])\n",
    "np_arr_2.dtype\n",
    "\n",
    "np.random.randint(10, 50, size = (2,3))"
   ]
  },
  {
   "cell_type": "markdown",
   "metadata": {},
   "source": [
    "## Section 133"
   ]
  },
  {
   "cell_type": "markdown",
   "metadata": {},
   "source": [
    "### Slicing and Indexes"
   ]
  },
  {
   "cell_type": "code",
   "execution_count": 4,
   "metadata": {},
   "outputs": [
    {
     "data": {
      "text/plain": [
       "array([1, 2, 3, 4, 5, 6, 7, 8, 9])"
      ]
     },
     "execution_count": 4,
     "metadata": {},
     "output_type": "execute_result"
    }
   ],
   "source": [
    "# np_m_arr_1[0,0] = 2\n",
    "# np_m_arr_1.itemset((0,1), 1)\n",
    "# print(\"np_m_arr_1\\n\", np_m_arr_1)\n",
    "# np_m_arr_1.shape\n",
    "# np_m_arr_1[0,2]\n",
    "\n",
    "# np.take(np_m_arr_1, [0,3,6])\n",
    "# np.put(np_m_arr_1, [0,3,6], [10,10,10])\n",
    "# np_m_arr_1\n",
    "np_arr_1\n",
    "# np_arr_1[:5:2]\n",
    "\n",
    "np_m_arr_1[:,1]\n",
    "\n",
    "np_m_arr_1[::-1]\n",
    "\n",
    "evens = np_m_arr_1[np_m_arr_1 % 2 == 0]\n",
    "evens\n",
    "\n",
    "np_m_arr_1[np_m_arr_1 > 5]\n",
    "\n",
    "\n",
    "np_m_arr_1[(np_m_arr_1 > 5) & (np_m_arr_1 < 9)]\n",
    "\n",
    "np_m_arr_1[(np_m_arr_1 > 5) | (np_m_arr_1 == 10)]\n",
    "\n",
    "np.unique(np_m_arr_1)"
   ]
  },
  {
   "cell_type": "markdown",
   "metadata": {},
   "source": [
    "np_m_arr_1.itemset?"
   ]
  },
  {
   "cell_type": "markdown",
   "metadata": {},
   "source": [
    "## Section 134"
   ]
  },
  {
   "cell_type": "markdown",
   "metadata": {},
   "source": [
    "### Reshaping Arrays"
   ]
  },
  {
   "cell_type": "code",
   "execution_count": 5,
   "metadata": {},
   "outputs": [
    {
     "data": {
      "text/plain": [
       "array([[1, 2, 3],\n",
       "       [4, 5, 6],\n",
       "       [7, 8, 9]])"
      ]
     },
     "execution_count": 5,
     "metadata": {},
     "output_type": "execute_result"
    }
   ],
   "source": [
    "np_m_arr_1.reshape((1,9))\n",
    "np.resize(np_m_arr_1, (2,5))\n",
    "\n",
    "np_m_arr_1.transpose()\n",
    "\n",
    "np_m_arr_1.swapaxes(0,1)\n",
    "\n",
    "np_m_arr_1.flatten('F')\n",
    "\n",
    "np_m_arr_1.sort(axis=1)\n",
    "np_m_arr_1\n"
   ]
  },
  {
   "cell_type": "markdown",
   "metadata": {},
   "source": [
    "## Stacking & Splitting"
   ]
  },
  {
   "cell_type": "code",
   "execution_count": 6,
   "metadata": {},
   "outputs": [
    {
     "name": "stdout",
     "output_type": "stream",
     "text": [
      "ss_arr_1\n",
      " [[5 6]\n",
      " [4 2]]\n",
      "ss_arr_2\n",
      " [[8 7]\n",
      " [9 5]]\n",
      "\n"
     ]
    }
   ],
   "source": [
    "ss_arr_1 = np.random.randint(10, size=(2,2))\n",
    "print(\"ss_arr_1\\n\", ss_arr_1)\n",
    "\n",
    "ss_arr_2 = np.random.randint(10, size=(2,2))\n",
    "print(\"ss_arr_2\\n\", ss_arr_2)\n",
    "\n",
    "np.vstack((ss_arr_1, ss_arr_2))\n",
    "\n",
    "np.hstack((ss_arr_1, ss_arr_2))\n",
    "\n",
    "\n",
    "ss_arr_3 = np.delete(ss_arr_1,  1, 0)\n",
    "ss_arr_4 = np.delete(ss_arr_2, 1, 0)\n",
    "\n",
    "np.column_stack((ss_arr_3, ss_arr_4))\n",
    "\n",
    "np.row_stack((ss_arr_3, ss_arr_4))\n",
    "\n",
    "ss_arr_5 = np.random.randint(10, size= (2,10))\n",
    "print(\"\")"
   ]
  },
  {
   "cell_type": "markdown",
   "metadata": {},
   "source": [
    "## Copying"
   ]
  },
  {
   "cell_type": "code",
   "execution_count": 7,
   "metadata": {},
   "outputs": [
    {
     "name": "stdout",
     "output_type": "stream",
     "text": [
      "cp_arr_1\n",
      " [[2 7]\n",
      " [5 9]]\n",
      "cp_arr_2\n",
      " [[2 7]\n",
      " [5 9]]\n",
      "cp_arr_1\n",
      " [[2 7]\n",
      " [5 9]]\n"
     ]
    }
   ],
   "source": [
    "cp_arr_1 = np.random.randint(10, size = (2,2))\n",
    "\n",
    "cp_arr_2 = cp_arr_1\n",
    "\n",
    "cp_arr_1[0,0] = 2\n",
    "\n",
    "print(\"cp_arr_1\\n\", cp_arr_1)\n",
    "print(\"cp_arr_2\\n\", cp_arr_2)\n",
    "\n",
    "cp_arr_3 = cp_arr_1.view()\n",
    "cp_arr_3.flatten(\"F\")\n",
    "print(\"cp_arr_1\\n\", cp_arr_1)\n",
    "\n",
    "cp_arr_4 = cp_arr_1.copy()"
   ]
  },
  {
   "cell_type": "markdown",
   "metadata": {},
   "source": [
    "## Section 135"
   ]
  },
  {
   "cell_type": "markdown",
   "metadata": {},
   "source": [
    "### Basic Math"
   ]
  },
  {
   "cell_type": "code",
   "execution_count": 8,
   "metadata": {},
   "outputs": [],
   "source": [
    "arr_3 = np.array([1,2,3,4])\n",
    "arr_4 = np.array([1,4,6,8])"
   ]
  },
  {
   "cell_type": "code",
   "execution_count": 9,
   "metadata": {},
   "outputs": [
    {
     "data": {
      "text/plain": [
       "array([ 2,  6,  9, 12])"
      ]
     },
     "execution_count": 9,
     "metadata": {},
     "output_type": "execute_result"
    }
   ],
   "source": [
    "arr_3 + arr_4"
   ]
  },
  {
   "cell_type": "code",
   "execution_count": 10,
   "metadata": {},
   "outputs": [],
   "source": [
    "arr_6 = random.randint(100, size = (2,3))\n",
    "\n",
    "arr_5 = random.randint(100, size = (4))"
   ]
  },
  {
   "cell_type": "code",
   "execution_count": 11,
   "metadata": {},
   "outputs": [
    {
     "data": {
      "text/plain": [
       "1"
      ]
     },
     "execution_count": 11,
     "metadata": {},
     "output_type": "execute_result"
    }
   ],
   "source": [
    "random.rand(4)\n",
    "random.choice(arr_3)"
   ]
  },
  {
   "cell_type": "code",
   "execution_count": 12,
   "metadata": {},
   "outputs": [
    {
     "name": "stdout",
     "output_type": "stream",
     "text": [
      "[[38 34 47]\n",
      " [44 67 49]]\n"
     ]
    },
    {
     "data": {
      "text/plain": [
       "array([ 82, 101,  96])"
      ]
     },
     "execution_count": 12,
     "metadata": {},
     "output_type": "execute_result"
    }
   ],
   "source": [
    "print(arr_6)\n",
    "arr_6.sum(axis=0)\n",
    "# arr_6.cumsum(axis=1)"
   ]
  },
  {
   "cell_type": "markdown",
   "metadata": {},
   "source": [
    "### Reading from Files\n"
   ]
  },
  {
   "cell_type": "code",
   "execution_count": 27,
   "metadata": {},
   "outputs": [
    {
     "ename": "SyntaxError",
     "evalue": "(unicode error) 'unicodeescape' codec can't decode bytes in position 2-3: truncated \\UXXXXXXXX escape (Temp/ipykernel_11380/2992977956.py, line 4)",
     "output_type": "error",
     "traceback": [
      "\u001b[1;36m  File \u001b[1;32m\"C:\\Users\\Daniel\\AppData\\Local\\Temp/ipykernel_11380/2992977956.py\"\u001b[1;36m, line \u001b[1;32m4\u001b[0m\n\u001b[1;33m    ice_data = pd.read_csv(\"C:\\Users\\Daniel\\Desktop\\Python_Practice\\udemy_python_programming\\icecreamsales.csv\")\u001b[0m\n\u001b[1;37m                                                                                                               ^\u001b[0m\n\u001b[1;31mSyntaxError\u001b[0m\u001b[1;31m:\u001b[0m (unicode error) 'unicodeescape' codec can't decode bytes in position 2-3: truncated \\UXXXXXXXX escape\n"
     ]
    }
   ],
   "source": [
    "import pandas as pd\n",
    "from numpy import genfromtxt\n",
    "\n",
    "# ice_data = pd.read_csv(\"C:\\Users\\Daniel\\Desktop\\Python_Practice\\udemy_python_programming\\icecreamsales.csv\")\n",
    "\n",
    "# ic_sales = pd.read_csv(ice_data).to_numpy()\n",
    "\n",
    "# ic_sales_2 = genfromtxt('C:\\Users\\Daniel\\Desktop\\Python_Practice\\udemy_python_programming\\icecreamsales.csv', delimiter = ',')\n",
    "# ic_sales_2 = [row[~np.isnan(row)] for row in ic_sales_2]\n",
    "# ic_sales_2"
   ]
  },
  {
   "cell_type": "markdown",
   "metadata": {},
   "source": [
    "## Secion 136"
   ]
  },
  {
   "cell_type": "markdown",
   "metadata": {},
   "source": [
    "### Statistics Functions"
   ]
  },
  {
   "cell_type": "code",
   "execution_count": 24,
   "metadata": {},
   "outputs": [
    {
     "name": "stdout",
     "output_type": "stream",
     "text": [
      "3.0\n",
      "3.0\n",
      "3.0\n",
      "1.4142135623730951\n",
      "2.0\n",
      "2.0\n"
     ]
    },
    {
     "ename": "TypeError",
     "evalue": "_percentile_dispatcher() missing 1 required positional argument: 'q'",
     "output_type": "error",
     "traceback": [
      "\u001b[1;31m---------------------------------------------------------------------------\u001b[0m",
      "\u001b[1;31mTypeError\u001b[0m                                 Traceback (most recent call last)",
      "\u001b[1;32m~\\AppData\\Local\\Temp/ipykernel_11380/582790868.py\u001b[0m in \u001b[0;36m<module>\u001b[1;34m\u001b[0m\n\u001b[0;32m      7\u001b[0m \u001b[0mprint\u001b[0m\u001b[1;33m(\u001b[0m\u001b[0mnp\u001b[0m\u001b[1;33m.\u001b[0m\u001b[0mvar\u001b[0m\u001b[1;33m(\u001b[0m\u001b[0msarr_1\u001b[0m\u001b[1;33m)\u001b[0m\u001b[1;33m)\u001b[0m\u001b[1;33m\u001b[0m\u001b[1;33m\u001b[0m\u001b[0m\n\u001b[0;32m      8\u001b[0m \u001b[0mprint\u001b[0m\u001b[1;33m(\u001b[0m\u001b[0mnp\u001b[0m\u001b[1;33m.\u001b[0m\u001b[0mnanvar\u001b[0m\u001b[1;33m(\u001b[0m\u001b[0msarr_1\u001b[0m\u001b[1;33m)\u001b[0m\u001b[1;33m)\u001b[0m\u001b[1;33m\u001b[0m\u001b[1;33m\u001b[0m\u001b[0m\n\u001b[1;32m----> 9\u001b[1;33m \u001b[0mprint\u001b[0m\u001b[1;33m(\u001b[0m\u001b[0mnp\u001b[0m\u001b[1;33m.\u001b[0m\u001b[0mpercentile\u001b[0m\u001b[1;33m(\u001b[0m\u001b[0msarr_1\u001b[0m\u001b[1;33m)\u001b[0m\u001b[1;33m)\u001b[0m\u001b[1;33m\u001b[0m\u001b[1;33m\u001b[0m\u001b[0m\n\u001b[0m",
      "\u001b[1;32m<__array_function__ internals>\u001b[0m in \u001b[0;36mpercentile\u001b[1;34m(*args, **kwargs)\u001b[0m\n",
      "\u001b[1;31mTypeError\u001b[0m: _percentile_dispatcher() missing 1 required positional argument: 'q'"
     ]
    }
   ],
   "source": [
    "sarr_1 = np.arange(1,6)\n",
    "sarr_1\n",
    "print(np.mean(sarr_1))\n",
    "print(np.median(sarr_1))\n",
    "print(np.average(sarr_1))\n",
    "print(np.std(sarr_1))\n",
    "print(np.var(sarr_1))\n",
    "print(np.nanvar(sarr_1))\n"
   ]
  },
  {
   "cell_type": "markdown",
   "metadata": {},
   "source": [
    "### Trig Functions"
   ]
  },
  {
   "cell_type": "code",
   "execution_count": 31,
   "metadata": {},
   "outputs": [
    {
     "data": {
      "image/png": "[encoded data removed]",
      "text/plain": [
       "<Figure size 432x288 with 1 Axes>"
      ]
     },
     "metadata": {
      "needs_background": "light"
     },
     "output_type": "display_data"
    }
   ],
   "source": [
    "# Generate array of 200 values between -pi & pi\n",
    "t_arr = np.linspace(-np.pi, np.pi, 200)\n",
    "#Plot with x axis & y axis data \n",
    "#plt.plot(t_arr, np.sin(t_arr)) # SIN\n",
    "#plt.plot(t_arr, np.cos(t_arr)) # COS\n",
    "plt.plot(t_arr, np.tan(t_arr)) # TAN\n",
    "#Display plot\n",
    "# plt.show()\n"
   ]
  },
  {
   "cell_type": "code",
   "execution_count": 35,
   "metadata": {},
   "outputs": [
    {
     "name": "stdout",
     "output_type": "stream",
     "text": [
      "1.5707963267948966\n",
      "0.0\n",
      "0.0\n"
     ]
    }
   ],
   "source": [
    "# Provides inverse of If y = cos(x), x = arccos(y)\n",
    "\n",
    "print(np.arcsin(1))\n",
    "print(np.arccos(1))\n",
    "print(np.arctan(0))"
   ]
  },
  {
   "cell_type": "code",
   "execution_count": 37,
   "metadata": {},
   "outputs": [
    {
     "name": "stdout",
     "output_type": "stream",
     "text": [
      "180.0\n",
      "3.141592653589793\n",
      "14.142135623730951\n"
     ]
    }
   ],
   "source": [
    "# Also arctan2, sinh, cosh, tanh, arcsinh, arccosh, arctanh\n",
    "\n",
    "# Radians to degrees\n",
    "print(np.rad2deg(np.pi))\n",
    "# Degrees to radians\n",
    "print(np.deg2rad(180))\n",
    "\n",
    "# Hypotenuse c = √w² + h²\n",
    "print(np.hypot(10,10))"
   ]
  },
  {
   "cell_type": "markdown",
   "metadata": {},
   "source": [
    "### Linear Algebra Functions"
   ]
  },
  {
   "cell_type": "code",
   "execution_count": 42,
   "metadata": {},
   "outputs": [
    {
     "name": "stdout",
     "output_type": "stream",
     "text": [
      "arr_5\n",
      " [[1 2]\n",
      " [3 4]]\n",
      "arr_6\n",
      " [[2 4]\n",
      " [6 9]]\n"
     ]
    }
   ],
   "source": [
    "from numpy import linalg as LA\n",
    "\n",
    "arr_5 = np.array([[1, 2], [3, 4]])\n",
    "arr_6 = np.array([[2, 4], [6, 9]])\n",
    "print(\"arr_5\\n\", arr_5)\n",
    "print(\"arr_6\\n\", arr_6)\n",
    "\n",
    "arr_8 = np.array([[5, 6], [7, 8]])"
   ]
  },
  {
   "cell_type": "code",
   "execution_count": 45,
   "metadata": {},
   "outputs": [
    {
     "name": "stdout",
     "output_type": "stream",
     "text": [
      "[[14 22]\n",
      " [30 48]]\n",
      "[[10 24]\n",
      " [22 54]]\n"
     ]
    }
   ],
   "source": [
    "print(np.dot(arr_5, arr_6))\n",
    "LA.multi_dot([arr_5, arr_6, arr_8])\n",
    "print(np.inner(arr_5, arr_6))"
   ]
  },
  {
   "cell_type": "code",
   "execution_count": 46,
   "metadata": {},
   "outputs": [
    {
     "data": {
      "text/plain": [
       "array([30, 70], dtype=object)"
      ]
     },
     "execution_count": 46,
     "metadata": {},
     "output_type": "execute_result"
    }
   ],
   "source": [
    "# Tensor Dot Product\n",
    "# (1 * 1) + (2 * 2) + (3 * 3) + (4 * 4) = 30\n",
    "# (5 * 1) + (6 * 2) + (7 * 3) + (8 * 4) = \n",
    "arr_9 = np.array([[[1, 2],\n",
    "        [3, 4]],\n",
    "       [[5, 6],\n",
    "        [7, 8]]])\n",
    "arr_10 = np.array([[1, 2],\n",
    "       [3, 4]], dtype=object)\n",
    "np.tensordot(arr_9, arr_10)\n"
   ]
  },
  {
   "cell_type": "code",
   "execution_count": 47,
   "metadata": {},
   "outputs": [
    {
     "data": {
      "text/plain": [
       "array([ 0, 22])"
      ]
     },
     "execution_count": 47,
     "metadata": {},
     "output_type": "execute_result"
    }
   ],
   "source": [
    "# Einstein Summation : Provides many ways to perform\n",
    "# operations on multiple arrays\n",
    "arr_11 = np.array([0, 1])\n",
    "arr_12 = np.array([[0, 1, 2, 3], [4, 5, 6, 7]])\n",
    "\n",
    "# Right of -> : Array we want (1D Array)\n",
    "# ij : Means multiply arr_11 single item by each column of arr_12 and sum\n",
    "# [0, 4 + 5 + 6 + 7]\n",
    "\n",
    "np.einsum('i,ij->i', arr_11, arr_12)"
   ]
  },
  {
   "cell_type": "code",
   "execution_count": 48,
   "metadata": {},
   "outputs": [
    {
     "name": "stdout",
     "output_type": "stream",
     "text": [
      "1\n"
     ]
    }
   ],
   "source": [
    "# Sum values in arr_11\n",
    "print(np.einsum('i->', arr_11))\n"
   ]
  },
  {
   "cell_type": "code",
   "execution_count": 49,
   "metadata": {},
   "outputs": [
    {
     "name": "stdout",
     "output_type": "stream",
     "text": [
      "arr_3\n",
      " [1 2 3 4]\n",
      "arr_4\n",
      " [1 4 6 8]\n"
     ]
    },
    {
     "data": {
      "text/plain": [
       "59"
      ]
     },
     "execution_count": 49,
     "metadata": {},
     "output_type": "execute_result"
    }
   ],
   "source": [
    "# Dot Product\n",
    "print(\"arr_3\\n\", arr_3)\n",
    "print(\"arr_4\\n\", arr_4)\n",
    "np.einsum('i,i->', arr_3, arr_4)"
   ]
  },
  {
   "cell_type": "code",
   "execution_count": 50,
   "metadata": {},
   "outputs": [
    {
     "name": "stdout",
     "output_type": "stream",
     "text": [
      "[[14 22]\n",
      " [30 48]]\n",
      "5\n",
      "[[1 3]\n",
      " [2 4]]\n"
     ]
    }
   ],
   "source": [
    "# Matrix multiplication\n",
    "print(np.einsum('ij,jk', arr_5, arr_6))\n",
    "# Get diagonal\n",
    "print(np.einsum('ii', arr_5))\n",
    "# Transpose\n",
    "print(np.einsum('ji', arr_5))"
   ]
  },
  {
   "cell_type": "code",
   "execution_count": 51,
   "metadata": {},
   "outputs": [
    {
     "name": "stdout",
     "output_type": "stream",
     "text": [
      "[[ 7 10]\n",
      " [15 22]]\n",
      "[[ 2  4  4  8]\n",
      " [ 6  9 12 18]\n",
      " [ 6 12  8 16]\n",
      " [18 27 24 36]]\n"
     ]
    }
   ],
   "source": [
    "\n",
    "# Raise matrix to the power of n\n",
    "# Given [[a, b], [c, d]]\n",
    "# [[a² + bc, ab +db], [ac + dc, d² + bc]\n",
    "print(LA.matrix_power(arr_5, 2))\n",
    "\n",
    "# Kronecker product of 2 arrays\n",
    "# Given [[a, b], [c, d]], [[e, f], [g, h]]\n",
    "# [[a*e, a*f, b*e, b*f], [a*g, a*h, b*g, b*h], ...]\n",
    "print(np.kron(arr_5, arr_6))"
   ]
  },
  {
   "cell_type": "code",
   "execution_count": 52,
   "metadata": {},
   "outputs": [
    {
     "data": {
      "text/plain": [
       "14.933034373659268"
      ]
     },
     "execution_count": 52,
     "metadata": {},
     "output_type": "execute_result"
    }
   ],
   "source": [
    "# Compute eigenvalues\n",
    "LA.eig(arr_5) # Returns eigenvectors\n",
    "LA.eigvals(arr_5)\n",
    "\n",
    "# Get Vector Norm sqrt(sum(x**2))\n",
    "LA.norm(arr_5)\n",
    "\n",
    "# Get Multiplicative Inverse of a matrix\n",
    "LA.inv(arr_5)\n",
    "\n",
    "# Get Condition number of matrix\n",
    "LA.cond(arr_5)"
   ]
  },
  {
   "cell_type": "code",
   "execution_count": 53,
   "metadata": {},
   "outputs": [
    {
     "data": {
      "text/plain": [
       "array([[1.00000000e+00, 1.11022302e-16],\n",
       "       [0.00000000e+00, 1.00000000e+00]])"
      ]
     },
     "execution_count": 53,
     "metadata": {},
     "output_type": "execute_result"
    }
   ],
   "source": [
    "# Determinates are used to compute volume, area, to solve systems\n",
    "# of equations and more. It is a way you can multiply values in a\n",
    "# matrix to get 1 number.\n",
    "# For a matrix to have an inverse its determinate must not equal 0\n",
    "# det([[a, b], [c, d]]) = a*d - b*c\n",
    "arr_12 = np.array([[1, 2], [3, 4]])\n",
    "# 1*4 - 2*3 = -2\n",
    "LA.det(arr_12)\n",
    "\n",
    "# Determinate of 3x3 Matrix\n",
    "# det([[a, b, c], [d, e, f], [g, h, i]]) = a*e*i - b*d*i + c*d*h\n",
    "# - a*f*h + b*f*g - c*e*g\n",
    "\n",
    "# When we multiply a matrix times its inverse we get the identity\n",
    "# matrix [[1,0],[0,1]] for a 2x2 matrix\n",
    "# Calculate the inverse 1/(a*d - b*c) * [[d, -b], [-c, a]]\n",
    "# 1/(4 - 6) = -.5 -> [[-.5*4, -.5*-2], [-.5*-3, -.5*a]]\n",
    "arr_12_i = LA.inv(arr_12)\n",
    "arr_12_i\n",
    "\n",
    "np.dot(arr_12, arr_12_i)\n"
   ]
  },
  {
   "cell_type": "markdown",
   "metadata": {},
   "source": []
  },
  {
   "cell_type": "code",
   "execution_count": 54,
   "metadata": {},
   "outputs": [
    {
     "data": {
      "text/plain": [
       "array([[1, 0],\n",
       "       [0, 1]])"
      ]
     },
     "execution_count": 54,
     "metadata": {},
     "output_type": "execute_result"
    }
   ],
   "source": [
    "# Solving Systems of Linear Equations\n",
    "# If you have 3x + 5 = 9x -> 5 = 6x -> x = 5/6\n",
    "# If you have x + 4y = 10 & 6x + 18y = 42\n",
    "# Isolate x -> x = 10 - 4y\n",
    "# 6(10 - 4y) + 18y = 42 -> 60 - 24y + 18y = 42 - > -6y = -18 -> y = 3\n",
    "# x + 4*3 = 10 -> x = -2\n",
    "arr_13 = np.array([[1, 4], [6, 18]])\n",
    "arr_14 = np.array([10, 42])\n",
    "# Solve will solve this for you as well\n",
    "LA.solve(arr_13, arr_14)\n",
    "\n",
    "# Return a identity matrix with defined number of rows and columns\n",
    "np.eye(2, 2, dtype=int)"
   ]
  },
  {
   "cell_type": "markdown",
   "metadata": {},
   "source": [
    "## Section 137"
   ]
  },
  {
   "cell_type": "markdown",
   "metadata": {},
   "source": []
  },
  {
   "cell_type": "markdown",
   "metadata": {},
   "source": [
    "### Saving and Loading NumPy Objects"
   ]
  },
  {
   "cell_type": "code",
   "execution_count": 56,
   "metadata": {},
   "outputs": [
    {
     "name": "stdout",
     "output_type": "stream",
     "text": [
      "[[1 2]\n",
      " [3 4]]\n"
     ]
    }
   ],
   "source": [
    "arr_15 = np.array([[1,2],[3,4]])\n",
    "# Save as randarray.npy\n",
    "np.save('randarray', arr_15)\n",
    "# Load saved array \n",
    "arr_16 = np.load('randarray.npy')\n",
    "print(arr_16)"
   ]
  },
  {
   "cell_type": "code",
   "execution_count": 57,
   "metadata": {},
   "outputs": [
    {
     "name": "stdout",
     "output_type": "stream",
     "text": [
      "[[1. 2.]\n",
      " [3. 4.]]\n"
     ]
    }
   ],
   "source": [
    "# Save as a CSV \n",
    "np.savetxt('randcsv.csv', arr_15)\n",
    "# Load CSV\n",
    "arr_17 = np.loadtxt('randcsv.csv')\n",
    "print(arr_17)"
   ]
  },
  {
   "cell_type": "markdown",
   "metadata": {},
   "source": [
    "### Financial Functions"
   ]
  },
  {
   "cell_type": "code",
   "execution_count": 59,
   "metadata": {},
   "outputs": [
    {
     "data": {
      "text/plain": [
       "74066.27016650053"
      ]
     },
     "execution_count": 59,
     "metadata": {},
     "output_type": "execute_result"
    }
   ],
   "source": [
    "import numpy_financial as npf\n",
    "\n",
    "# Compute future value of $400 investment every month\n",
    "# with an annual rate of 8% after 10 years\n",
    "npf.fv(.08/12, 10*12, -400, -400)"
   ]
  },
  {
   "cell_type": "code",
   "execution_count": 60,
   "metadata": {},
   "outputs": [
    {
     "name": "stdout",
     "output_type": "stream",
     "text": [
      "1   -239.58    -23.12    2760.42\n",
      "2   -241.42    -21.28    2519.0\n",
      "3   -243.29    -19.42    2275.71\n",
      "4   -245.16    -17.54    2030.55\n",
      "5   -247.05    -15.65    1783.5\n",
      "6   -248.95    -13.75    1534.55\n",
      "7   -250.87    -11.83    1283.67\n",
      "8   -252.81    -9.89    1030.87\n",
      "9   -254.76    -7.95    776.11\n",
      "10   -256.72    -5.98    519.39\n",
      "11   -258.7    -4.0    260.69\n",
      "12   -260.69    -2.01    0.0\n"
     ]
    }
   ],
   "source": [
    "# Calculate interest portion of payment on a loan of $3,000\n",
    "# at 9.25% per year compounded monthly\n",
    "# Period of loan (year)\n",
    "period = np.arange(1*12) + 1\n",
    "principle = 3000.00\n",
    "# Interest Payment\n",
    "ipmt = npf.ipmt(0.0925/12, period, 1*12, principle)\n",
    "# Principle Payment\n",
    "ppmt = npf.ppmt(0.0925/12, period, 1*12, principle)\n",
    "for payment in period:\n",
    "    index = payment - 1\n",
    "    principle = principle + ppmt[index]\n",
    "    print(f\"{payment}   {np.round(ppmt[index], 2)}    {np.round(ipmt[index],2)}    {np.round(principle, 2)}\")\n"
   ]
  },
  {
   "cell_type": "code",
   "execution_count": 61,
   "metadata": {},
   "outputs": [
    {
     "data": {
      "text/plain": [
       "21.8"
      ]
     },
     "execution_count": 61,
     "metadata": {},
     "output_type": "execute_result"
    }
   ],
   "source": [
    "# Compute number of payments to pay off $3,000 if you paid\n",
    "# $150 per month with an interest rate of 9.25%\n",
    "np.round(npf.nper(0.0925/12, -150, 3000.00), 2)"
   ]
  },
  {
   "cell_type": "code",
   "execution_count": 62,
   "metadata": {},
   "outputs": [
    {
     "data": {
      "text/plain": [
       "2898.6"
      ]
     },
     "execution_count": 62,
     "metadata": {},
     "output_type": "execute_result"
    }
   ],
   "source": [
    "# Calculate net present value of cash flows of $4,000, $5,000\n",
    "# $6,000, $7,000 after $15,000 investment with .08 rate per period\n",
    "npf.npv(0.08, [-15000, 4000, 5000, 6000, 7000]).round(2)"
   ]
  },
  {
   "cell_type": "markdown",
   "metadata": {},
   "source": [
    "### Comparison Functions"
   ]
  },
  {
   "cell_type": "code",
   "execution_count": 63,
   "metadata": {},
   "outputs": [
    {
     "name": "stdout",
     "output_type": "stream",
     "text": [
      "[False  True]\n",
      "[False  True]\n",
      "[ True False]\n"
     ]
    },
    {
     "data": {
      "text/plain": [
       "array([False, False])"
      ]
     },
     "execution_count": 63,
     "metadata": {},
     "output_type": "execute_result"
    }
   ],
   "source": [
    "carr_1 = np.array([2, 3])\n",
    "carr_2 = np.array([3, 2])\n",
    "# Returns boolean based on whether arr_1 value Comparison arr_2 value\n",
    "print(np.greater(carr_1, carr_2))\n",
    "print(np.greater_equal(carr_1, carr_2))\n",
    "print(np.less(carr_1, carr_2))\n",
    "np.less_equal(carr_1, carr_2)\n",
    "np.not_equal(carr_1, carr_2)\n",
    "np.equal(carr_1, carr_2)"
   ]
  },
  {
   "cell_type": "markdown",
   "metadata": {},
   "source": []
  }
 ],
 "metadata": {
  "interpreter": {
   "hash": "40d3a090f54c6569ab1632332b64b2c03c39dcf918b08424e98f38b5ae0af88f"
  },
  "kernelspec": {
   "display_name": "Python 3.8.12 64-bit ('base': conda)",
   "language": "python",
   "name": "python3"
  },
  "language_info": {
   "codemirror_mode": {
    "name": "ipython",
    "version": 3
   },
   "file_extension": ".py",
   "mimetype": "text/x-python",
   "name": "python",
   "nbconvert_exporter": "python",
   "pygments_lexer": "ipython3",
   "version": "3.9.7"
  },
  "orig_nbformat": 4
 },
 "nbformat": 4,
 "nbformat_minor": 2
}
