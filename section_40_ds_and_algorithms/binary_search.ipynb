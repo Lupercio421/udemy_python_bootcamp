{
 "cells": [
  {
   "cell_type": "markdown",
   "metadata": {},
   "source": [
    "https://www.youtube.com/watch?v=6ysjqCUv3K4"
   ]
  },
  {
   "cell_type": "code",
   "execution_count": 1,
   "metadata": {},
   "outputs": [],
   "source": [
    "def search(arr, target):\n",
    "    left = 0\n",
    "    right = len(arr) - 1\n",
    "    while left <= right:\n",
    "        mid = (left + right) // 2 # make sure to round it down\n",
    "        if arr[mid] == target:\n",
    "\t        return mid\n",
    "        elif target < arr[mid]:\n",
    "\t        right = mid - 1\n",
    "        else:\n",
    "            left = mid + 1\n",
    "    return -1"
   ]
  },
  {
   "cell_type": "code",
   "execution_count": null,
   "metadata": {},
   "outputs": [],
   "source": [
    "arr1 = [-2, 3, 4, 7, 8, 9, 11, 13]\n",
    "assert search(arr1, 11) == 6\n",
    "assert search(arr1, 13) == 7\n",
    "assert search(arr1, -2) == 0\n",
    "assert search(arr1, 8) == 4\n",
    "assert search(arr1, 6) == -1\n",
    "assert search(arr1, 14) == -1\n",
    "assert search(arr1, -4) == -1"
   ]
  },
  {
   "cell_type": "code",
   "execution_count": null,
   "metadata": {},
   "outputs": [],
   "source": [
    "arr2 = [3]\n",
    "assert search(arr2, 6) == -1\n",
    "assert search(arr2, 2) == -1\n",
    "assert search(arr2, 3) == 0"
   ]
  },
  {
   "cell_type": "code",
   "execution_count": null,
   "metadata": {},
   "outputs": [],
   "source": [
    "print(\"If you didn't get an assertion error, this program has run successfully.\")"
   ]
  }
 ],
 "metadata": {
  "interpreter": {
   "hash": "a8387c85817131f62b92073afbf9c4320cbcdb4fc33a940d74c72b0cf27cea34"
  },
  "kernelspec": {
   "display_name": "Python 3.9.7 ('sfds')",
   "language": "python",
   "name": "python3"
  },
  "language_info": {
   "codemirror_mode": {
    "name": "ipython",
    "version": 3
   },
   "file_extension": ".py",
   "mimetype": "text/x-python",
   "name": "python",
   "nbconvert_exporter": "python",
   "pygments_lexer": "ipython3",
   "version": "3.9.7"
  },
  "orig_nbformat": 4
 },
 "nbformat": 4,
 "nbformat_minor": 2
}
