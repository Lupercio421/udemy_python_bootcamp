{
 "cells": [
  {
   "cell_type": "markdown",
   "metadata": {},
   "source": [
    "# DSNY Bureau of Recycling and Sustainability Skills Assessment: Lupercio, Daniel "
   ]
  },
  {
   "cell_type": "code",
   "execution_count": 59,
   "metadata": {},
   "outputs": [],
   "source": [
    "import pandas as pd\n",
    "import matplotlib.pyplot as plt\n",
    "import altair as alt    \n",
    "import datetime"
   ]
  },
  {
   "cell_type": "markdown",
   "metadata": {},
   "source": [
    "## 1. Using python and pandas library or any other data analysis library, parse the data out of the excel or csv file and complete the following:"
   ]
  },
  {
   "cell_type": "markdown",
   "metadata": {},
   "source": [
    "### a. Create a pivot table where tonnages are summed up by material type and year. Combine RESORGANICSTONS,SCHOOLORGANICTONS and LEAVESORGANICTONS into a single column “ORGANICS”."
   ]
  },
  {
   "cell_type": "code",
   "execution_count": 2,
   "metadata": {},
   "outputs": [
    {
     "name": "stdout",
     "output_type": "stream",
     "text": [
      "       MONTH    BOROUGH COMMUNITYDISTRICT  REFUSETONSCOLLECTED  \\\n",
      "0  1993 / 11  Manhattan                01                625.2   \n",
      "1  1992 / 03  Manhattan                01                726.0   \n",
      "2  1995 / 08  Manhattan                01                627.5   \n",
      "3  1991 / 08  Manhattan                01                695.1   \n",
      "4  1995 / 09  Manhattan                01                633.1   \n",
      "5  1996 / 04   Brooklyn                07               3478.8   \n",
      "6  2007 / 08   Brooklyn                07               3648.4   \n",
      "7  2012 / 01   Brooklyn                07               3156.7   \n",
      "8  2003 / 11   Brooklyn                07               3729.5   \n",
      "9  2004 / 08   Brooklyn                07               3695.6   \n",
      "\n",
      "   PAPERTONSCOLLECTED  MGPTONSCOLLECTED  RESORGANICSTONS  SCHOOLORGANICTONS  \\\n",
      "0               119.4              34.4              NaN                NaN   \n",
      "1                 NaN               NaN              NaN                NaN   \n",
      "2                82.4              35.6              NaN                NaN   \n",
      "3                 NaN               NaN              NaN                NaN   \n",
      "4               117.2              45.8              NaN                NaN   \n",
      "5               279.2             301.6              NaN                NaN   \n",
      "6               515.4             400.7              NaN                NaN   \n",
      "7               436.6             343.4              NaN                NaN   \n",
      "8                 NaN               NaN              NaN                NaN   \n",
      "9               496.6             443.7              NaN                NaN   \n",
      "\n",
      "   LEAVESORGANICTONS  XMASTREETONS  BOROUGH_ID  \n",
      "0                NaN           NaN         1.0  \n",
      "1                NaN           NaN         1.0  \n",
      "2                NaN           NaN         1.0  \n",
      "3                NaN           NaN         1.0  \n",
      "4                NaN           NaN         1.0  \n",
      "5                NaN           NaN         3.0  \n",
      "6                NaN           NaN         3.0  \n",
      "7                NaN          20.1         3.0  \n",
      "8                NaN           NaN         3.0  \n",
      "9                NaN           NaN         3.0  \n",
      "\n"
     ]
    }
   ],
   "source": [
    "DSNY_waste = pd.read_csv(\"C:/Users/Daniel/Downloads/DSNY_Monthly_Tonnage_Data.csv\")\n",
    "print(DSNY_waste.head(10))\n",
    "print()"
   ]
  },
  {
   "cell_type": "code",
   "execution_count": 3,
   "metadata": {},
   "outputs": [
    {
     "name": "stdout",
     "output_type": "stream",
     "text": [
      "0    1993\n",
      "1    1992\n",
      "2    1995\n",
      "3    1991\n",
      "4    1995\n",
      "5    1996\n",
      "6    2007\n",
      "7    2012\n",
      "8    2003\n",
      "9    2004\n",
      "Name: YEAR, dtype: int64\n",
      "\n"
     ]
    }
   ],
   "source": [
    "DSNY_waste['YEAR'] = pd.DatetimeIndex(DSNY_waste['MONTH']).year #datatime package is used to return the year from the 'Month' field\n",
    "print(DSNY_waste['YEAR'].head(10))\n",
    "print()"
   ]
  },
  {
   "cell_type": "code",
   "execution_count": 4,
   "metadata": {},
   "outputs": [
    {
     "name": "stdout",
     "output_type": "stream",
     "text": [
      "21986     0.0\n",
      "21987    76.7\n",
      "21988    54.0\n",
      "21989    52.8\n",
      "21990     0.0\n",
      "21991    40.3\n",
      "21992    82.0\n",
      "21993    41.2\n",
      "21994    46.8\n",
      "21995     0.0\n",
      "Name: ORGANICS, dtype: float64\n",
      "\n"
     ]
    }
   ],
   "source": [
    "DSNY_waste['ORGANICS'] = DSNY_waste[[\"RESORGANICSTONS\", \"SCHOOLORGANICTONS\", \"LEAVESORGANICTONS\"]].sum(axis = 1)\n",
    "print(DSNY_waste['ORGANICS'].tail(10))\n",
    "print()"
   ]
  },
  {
   "cell_type": "code",
   "execution_count": 5,
   "metadata": {},
   "outputs": [
    {
     "name": "stdout",
     "output_type": "stream",
     "text": [
      "       MONTH    BOROUGH COMMUNITYDISTRICT  REFUSE  PAPER   MGP  \\\n",
      "0  1993 / 11  Manhattan                01   625.2  119.4  34.4   \n",
      "1  1992 / 03  Manhattan                01   726.0    NaN   NaN   \n",
      "2  1995 / 08  Manhattan                01   627.5   82.4  35.6   \n",
      "3  1991 / 08  Manhattan                01   695.1    NaN   NaN   \n",
      "4  1995 / 09  Manhattan                01   633.1  117.2  45.8   \n",
      "\n",
      "   RESORGANICSTONS  SCHOOLORGANICTONS  LEAVESORGANICTONS  XMASTREETONS  \\\n",
      "0              NaN                NaN                NaN           NaN   \n",
      "1              NaN                NaN                NaN           NaN   \n",
      "2              NaN                NaN                NaN           NaN   \n",
      "3              NaN                NaN                NaN           NaN   \n",
      "4              NaN                NaN                NaN           NaN   \n",
      "\n",
      "   BOROUGH_ID  YEAR  ORGANICS  \n",
      "0         1.0  1993       0.0  \n",
      "1         1.0  1992       0.0  \n",
      "2         1.0  1995       0.0  \n",
      "3         1.0  1991       0.0  \n",
      "4         1.0  1995       0.0  \n",
      "\n"
     ]
    }
   ],
   "source": [
    "DSNY_waste = DSNY_waste.rename(columns={\"MGPTONSCOLLECTED\":\"MGP\", \"PAPERTONSCOLLECTED\": \"PAPER\", \"REFUSETONSCOLLECTED\":\"REFUSE\"})\n",
    "print(DSNY_waste.head())\n",
    "print()"
   ]
  },
  {
   "cell_type": "code",
   "execution_count": 77,
   "metadata": {},
   "outputs": [
    {
     "name": "stdout",
     "output_type": "stream",
     "text": [
      "<class 'pandas.core.frame.DataFrame'>\n",
      "\n",
      "   YEAR       MGP  ORGANICS     PAPER     REFUSE\n",
      "0  1990       0.0       0.0       0.0   303504.4\n",
      "1  1991       0.0       0.0       0.0  2345895.0\n",
      "2  1992       0.0       0.0       0.0  2906071.8\n",
      "3  1993   86539.7    3422.1  139116.6  2751928.6\n",
      "4  1994  162526.0    2780.9  256137.0  2753880.2\n",
      "\n"
     ]
    }
   ],
   "source": [
    "# DSNY_waste[[\"YEAR\", \"MGP\", \"ORGANICS\", \"PAPER\", \"REFUSE\"]].groupby(['YEAR'], as_index=False).sum() this works great, the variables are ordered correctly, and we groupby the year. as_index=F allows a dataframe\n",
    "DSNY_pivot = DSNY_waste[[\"YEAR\", \"MGP\", \"ORGANICS\", \"PAPER\", \"REFUSE\"]].groupby(['YEAR'], as_index=False).sum()\n",
    "print(type(DSNY_pivot))\n",
    "print()\n",
    "print(DSNY_pivot.head(5))\n",
    "print()"
   ]
  },
  {
   "cell_type": "code",
   "execution_count": 7,
   "metadata": {},
   "outputs": [],
   "source": [
    "DSNY_pivot.to_csv(\"DSNY_pivot.csv\")"
   ]
  },
  {
   "cell_type": "markdown",
   "metadata": {},
   "source": [
    "## 2. Using the pivot table from 1a, create a chart by completing the following:"
   ]
  },
  {
   "cell_type": "markdown",
   "metadata": {},
   "source": [
    "### a. Remove the 2022 row from pivot table"
   ]
  },
  {
   "cell_type": "code",
   "execution_count": 8,
   "metadata": {},
   "outputs": [
    {
     "name": "stdout",
     "output_type": "stream",
     "text": [
      "    YEAR     MGP  ORGANICS   PAPER   REFUSE\n",
      "32  2022  4037.0     316.0  3815.8  37542.7\n",
      "\n"
     ]
    }
   ],
   "source": [
    "print(DSNY_pivot[(DSNY_pivot['YEAR'] == 2022)]) # returning the row where (Year = 2022), with the index = 32\n",
    "print()\n",
    "DSNY_pivot.drop(32, axis=0, inplace=True)"
   ]
  },
  {
   "cell_type": "code",
   "execution_count": 9,
   "metadata": {},
   "outputs": [
    {
     "name": "stdout",
     "output_type": "stream",
     "text": [
      "    YEAR       MGP  ORGANICS     PAPER     REFUSE\n",
      "27  2017  283443.5   32113.4  294064.2  2504633.6\n",
      "28  2018  290270.8   45389.9  303129.0  2528012.3\n",
      "29  2019  299943.1   43416.6  298673.3  2513397.1\n",
      "30  2020  348329.8   11419.3  312203.2  2664571.9\n",
      "31  2021  318676.6    3849.2  309542.9  2670184.7\n"
     ]
    }
   ],
   "source": [
    "print(DSNY_pivot.tail(5)) #the row with year = 2022 has been dropped"
   ]
  },
  {
   "cell_type": "markdown",
   "metadata": {},
   "source": [
    "## b. Using matplotlib or any other visualization library, create a stackplot using the output pivot table from 2a. Use the “YEAR” values for the x-axis and the tonnage numbers for the y-axis. Make sure to label chart elements meaningfully so that anyone can read and understand them."
   ]
  },
  {
   "cell_type": "code",
   "execution_count": 10,
   "metadata": {},
   "outputs": [
    {
     "data": {
      "image/png": "[encoded data removed]",
      "text/plain": [
       "<Figure size 432x288 with 1 Axes>"
      ]
     },
     "metadata": {
      "needs_background": "light"
     },
     "output_type": "display_data"
    }
   ],
   "source": [
    "plt.stackplot(DSNY_pivot['YEAR'], DSNY_pivot['MGP'], DSNY_pivot[\"ORGANICS\"], DSNY_pivot[\"PAPER\"], DSNY_pivot[\"REFUSE\"]) #The YEAR is passed first, as the X-avis values, the other values after will be interpreted as y-values\n",
    "plt.legend(['MGP', \"ORGANICS\", \"PAPER\", \"REFUSE\"], loc = \"upper left\")\n",
    "plt.xlabel(\"Year\")\n",
    "plt.ylabel(\"Tons Collected in Millions\")\n",
    "plt.show()"
   ]
  },
  {
   "cell_type": "markdown",
   "metadata": {},
   "source": [
    "## Optional\n",
    "### I attempted the stacked plot with the 'altair' package. Ultimately, I wasn't able to create a stacked plot with all four tonnage variables included in a single plot. However, altair has its advantages, as I like it's 'interactive()' feature. Below are altair area plots of each individual waste tonnage variable. These plots are best used and displayed inside a Jupyter Notebook. "
   ]
  },
  {
   "cell_type": "code",
   "execution_count": 76,
   "metadata": {},
   "outputs": [
    {
     "data": {
      "text/html": [
       "\n",
       "<div id=\"altair-viz-51d9afa7d1b84e23bbd04305769ad0e6\"></div>\n",
       "<script type=\"text/javascript\">\n",
       "  var VEGA_DEBUG = (typeof VEGA_DEBUG == \"undefined\") ? {} : VEGA_DEBUG;\n",
       "  (function(spec, embedOpt){\n",
       "    let outputDiv = document.currentScript.previousElementSibling;\n",
       "    if (outputDiv.id !== \"altair-viz-51d9afa7d1b84e23bbd04305769ad0e6\") {\n",
       "      outputDiv = document.getElementById(\"altair-viz-51d9afa7d1b84e23bbd04305769ad0e6\");\n",
       "    }\n",
       "    const paths = {\n",
       "      \"vega\": \"https://cdn.jsdelivr.net/npm//vega@5?noext\",\n",
       "      \"vega-lib\": \"https://cdn.jsdelivr.net/npm//vega-lib?noext\",\n",
       "      \"vega-lite\": \"https://cdn.jsdelivr.net/npm//vega-lite@4.17.0?noext\",\n",
       "      \"vega-embed\": \"https://cdn.jsdelivr.net/npm//vega-embed@6?noext\",\n",
       "    };\n",
       "\n",
       "    function maybeLoadScript(lib, version) {\n",
       "      var key = `${lib.replace(\"-\", \"\")}_version`;\n",
       "      return (VEGA_DEBUG[key] == version) ?\n",
       "        Promise.resolve(paths[lib]) :\n",
       "        new Promise(function(resolve, reject) {\n",
       "          var s = document.createElement('script');\n",
       "          document.getElementsByTagName(\"head\")[0].appendChild(s);\n",
       "          s.async = true;\n",
       "          s.onload = () => {\n",
       "            VEGA_DEBUG[key] = version;\n",
       "            return resolve(paths[lib]);\n",
       "          };\n",
       "          s.onerror = () => reject(`Error loading script: ${paths[lib]}`);\n",
       "          s.src = paths[lib];\n",
       "        });\n",
       "    }\n",
       "\n",
       "    function showError(err) {\n",
       "      outputDiv.innerHTML = `<div class=\"error\" style=\"color:red;\">${err}</div>`;\n",
       "      throw err;\n",
       "    }\n",
       "\n",
       "    function displayChart(vegaEmbed) {\n",
       "      vegaEmbed(outputDiv, spec, embedOpt)\n",
       "        .catch(err => showError(`Javascript Error: ${err.message}<br>This usually means there's a typo in your chart specification. See the javascript console for the full traceback.`));\n",
       "    }\n",
       "\n",
       "    if(typeof define === \"function\" && define.amd) {\n",
       "      requirejs.config({paths});\n",
       "      require([\"vega-embed\"], displayChart, err => showError(`Error loading script: ${err.message}`));\n",
       "    } else {\n",
       "      maybeLoadScript(\"vega\", \"5\")\n",
       "        .then(() => maybeLoadScript(\"vega-lite\", \"4.17.0\"))\n",
       "        .then(() => maybeLoadScript(\"vega-embed\", \"6\"))\n",
       "        .catch(showError)\n",
       "        .then(() => displayChart(vegaEmbed));\n",
       "    }\n",
       "  })({\"config\": {\"view\": {\"continuousWidth\": 400, \"continuousHeight\": 300}}, \"data\": {\"name\": \"data-905c9a58ee2e37f957fb318656622bae\"}, \"mark\": {\"type\": \"area\", \"opacity\": 0.3}, \"encoding\": {\"x\": {\"field\": \"YEAR\", \"type\": \"ordinal\"}, \"y\": {\"field\": \"MGP\", \"title\": \"MGP Tonnage\", \"type\": \"quantitative\"}}, \"selection\": {\"selector008\": {\"type\": \"interval\", \"bind\": \"scales\", \"encodings\": [\"x\", \"y\"]}}, \"$schema\": \"https://vega.github.io/schema/vega-lite/v4.17.0.json\", \"datasets\": {\"data-905c9a58ee2e37f957fb318656622bae\": [{\"YEAR\": 1990, \"MGP\": 0.0, \"ORGANICS\": 0.0, \"PAPER\": 0.0, \"REFUSE\": 303504.4}, {\"YEAR\": 1991, \"MGP\": 0.0, \"ORGANICS\": 0.0, \"PAPER\": 0.0, \"REFUSE\": 2345895.0}, {\"YEAR\": 1992, \"MGP\": 0.0, \"ORGANICS\": 0.0, \"PAPER\": 0.0, \"REFUSE\": 2906071.8}, {\"YEAR\": 1993, \"MGP\": 86539.7, \"ORGANICS\": 3422.1, \"PAPER\": 139116.6, \"REFUSE\": 2751928.6}, {\"YEAR\": 1994, \"MGP\": 162526.0, \"ORGANICS\": 2780.9, \"PAPER\": 256137.0, \"REFUSE\": 2753880.2}, {\"YEAR\": 1995, \"MGP\": 168124.7, \"ORGANICS\": 3322.1, \"PAPER\": 231199.4, \"REFUSE\": 2691016.3}, {\"YEAR\": 1996, \"MGP\": 173701.1, \"ORGANICS\": 2287.8, \"PAPER\": 256605.0, \"REFUSE\": 2770664.8}, {\"YEAR\": 1997, \"MGP\": 193311.5, \"ORGANICS\": 4670.3, \"PAPER\": 221320.7, \"REFUSE\": 2691786.0}, {\"YEAR\": 1998, \"MGP\": 243912.0, \"ORGANICS\": 6893.400000000001, \"PAPER\": 230916.8, \"REFUSE\": 2608081.4}, {\"YEAR\": 1999, \"MGP\": 275585.8, \"ORGANICS\": 18671.6, \"PAPER\": 243095.8, \"REFUSE\": 2576848.3}, {\"YEAR\": 2000, \"MGP\": 299002.1, \"ORGANICS\": 16015.6, \"PAPER\": 253064.4, \"REFUSE\": 2565089.4}, {\"YEAR\": 2001, \"MGP\": 312362.0, \"ORGANICS\": 17936.0, \"PAPER\": 241365.1, \"REFUSE\": 2648601.4}, {\"YEAR\": 2002, \"MGP\": 155990.5, \"ORGANICS\": 14.8, \"PAPER\": 208997.9, \"REFUSE\": 2875495.1}, {\"YEAR\": 2003, \"MGP\": 1.0, \"ORGANICS\": 12.7, \"PAPER\": 193667.8, \"REFUSE\": 3074509.7}, {\"YEAR\": 2004, \"MGP\": 186858.7, \"ORGANICS\": 17042.2, \"PAPER\": 329546.2, \"REFUSE\": 2905797.3}, {\"YEAR\": 2005, \"MGP\": 243745.7, \"ORGANICS\": 13178.6, \"PAPER\": 372156.4, \"REFUSE\": 2805761.1}, {\"YEAR\": 2006, \"MGP\": 234817.2, \"ORGANICS\": 17816.100000000002, \"PAPER\": 353539.0, \"REFUSE\": 2759260.1}, {\"YEAR\": 2007, \"MGP\": 227955.1, \"ORGANICS\": 4866.2, \"PAPER\": 346711.6, \"REFUSE\": 2692388.4}, {\"YEAR\": 2008, \"MGP\": 228650.4, \"ORGANICS\": 15.0, \"PAPER\": 341015.4, \"REFUSE\": 2629856.3}, {\"YEAR\": 2009, \"MGP\": 231092.6, \"ORGANICS\": 0.0, \"PAPER\": 311240.8, \"REFUSE\": 2591531.2}, {\"YEAR\": 2010, \"MGP\": 220878.2, \"ORGANICS\": 0.0, \"PAPER\": 299359.3, \"REFUSE\": 2534393.8}, {\"YEAR\": 2011, \"MGP\": 219438.2, \"ORGANICS\": 0.0, \"PAPER\": 301957.2, \"REFUSE\": 2663828.9}, {\"YEAR\": 2012, \"MGP\": 211631.0, \"ORGANICS\": 146.5, \"PAPER\": 283164.4, \"REFUSE\": 2586978.9}, {\"YEAR\": 2013, \"MGP\": 219805.5, \"ORGANICS\": 1650.8, \"PAPER\": 284065.8, \"REFUSE\": 2553356.8}, {\"YEAR\": 2014, \"MGP\": 234966.0, \"ORGANICS\": 8201.9, \"PAPER\": 288735.8, \"REFUSE\": 2528444.5}, {\"YEAR\": 2015, \"MGP\": 251379.0, \"ORGANICS\": 13665.2, \"PAPER\": 292723.3, \"REFUSE\": 2498990.8}, {\"YEAR\": 2016, \"MGP\": 275263.9, \"ORGANICS\": 20554.7, \"PAPER\": 299344.8, \"REFUSE\": 2503022.1}, {\"YEAR\": 2017, \"MGP\": 283443.5, \"ORGANICS\": 32113.4, \"PAPER\": 294064.2, \"REFUSE\": 2504633.6}, {\"YEAR\": 2018, \"MGP\": 290270.8, \"ORGANICS\": 45389.9, \"PAPER\": 303129.0, \"REFUSE\": 2528012.3}, {\"YEAR\": 2019, \"MGP\": 299943.1, \"ORGANICS\": 43416.6, \"PAPER\": 298673.3, \"REFUSE\": 2513397.1}, {\"YEAR\": 2020, \"MGP\": 348329.8, \"ORGANICS\": 11419.3, \"PAPER\": 312203.2, \"REFUSE\": 2664571.9}, {\"YEAR\": 2021, \"MGP\": 318676.6, \"ORGANICS\": 3849.2, \"PAPER\": 309542.9, \"REFUSE\": 2670184.7}]}}, {\"mode\": \"vega-lite\"});\n",
       "</script>"
      ],
      "text/plain": [
       "alt.Chart(...)"
      ]
     },
     "execution_count": 76,
     "metadata": {},
     "output_type": "execute_result"
    }
   ],
   "source": [
    "alt.Chart(DSNY_pivot).mark_area(opacity=0.3).encode(\n",
    "    alt.X(\"YEAR\", type = \"ordinal\"),\n",
    "    alt.Y(\"MGP\", type = \"quantitative\", title = \"MGP Tonnage\")\n",
    ").interactive()"
   ]
  },
  {
   "cell_type": "code",
   "execution_count": 75,
   "metadata": {},
   "outputs": [
    {
     "data": {
      "text/html": [
       "\n",
       "<div id=\"altair-viz-c0edba4ca31c4323a7bd4ab1e2068a1d\"></div>\n",
       "<script type=\"text/javascript\">\n",
       "  var VEGA_DEBUG = (typeof VEGA_DEBUG == \"undefined\") ? {} : VEGA_DEBUG;\n",
       "  (function(spec, embedOpt){\n",
       "    let outputDiv = document.currentScript.previousElementSibling;\n",
       "    if (outputDiv.id !== \"altair-viz-c0edba4ca31c4323a7bd4ab1e2068a1d\") {\n",
       "      outputDiv = document.getElementById(\"altair-viz-c0edba4ca31c4323a7bd4ab1e2068a1d\");\n",
       "    }\n",
       "    const paths = {\n",
       "      \"vega\": \"https://cdn.jsdelivr.net/npm//vega@5?noext\",\n",
       "      \"vega-lib\": \"https://cdn.jsdelivr.net/npm//vega-lib?noext\",\n",
       "      \"vega-lite\": \"https://cdn.jsdelivr.net/npm//vega-lite@4.17.0?noext\",\n",
       "      \"vega-embed\": \"https://cdn.jsdelivr.net/npm//vega-embed@6?noext\",\n",
       "    };\n",
       "\n",
       "    function maybeLoadScript(lib, version) {\n",
       "      var key = `${lib.replace(\"-\", \"\")}_version`;\n",
       "      return (VEGA_DEBUG[key] == version) ?\n",
       "        Promise.resolve(paths[lib]) :\n",
       "        new Promise(function(resolve, reject) {\n",
       "          var s = document.createElement('script');\n",
       "          document.getElementsByTagName(\"head\")[0].appendChild(s);\n",
       "          s.async = true;\n",
       "          s.onload = () => {\n",
       "            VEGA_DEBUG[key] = version;\n",
       "            return resolve(paths[lib]);\n",
       "          };\n",
       "          s.onerror = () => reject(`Error loading script: ${paths[lib]}`);\n",
       "          s.src = paths[lib];\n",
       "        });\n",
       "    }\n",
       "\n",
       "    function showError(err) {\n",
       "      outputDiv.innerHTML = `<div class=\"error\" style=\"color:red;\">${err}</div>`;\n",
       "      throw err;\n",
       "    }\n",
       "\n",
       "    function displayChart(vegaEmbed) {\n",
       "      vegaEmbed(outputDiv, spec, embedOpt)\n",
       "        .catch(err => showError(`Javascript Error: ${err.message}<br>This usually means there's a typo in your chart specification. See the javascript console for the full traceback.`));\n",
       "    }\n",
       "\n",
       "    if(typeof define === \"function\" && define.amd) {\n",
       "      requirejs.config({paths});\n",
       "      require([\"vega-embed\"], displayChart, err => showError(`Error loading script: ${err.message}`));\n",
       "    } else {\n",
       "      maybeLoadScript(\"vega\", \"5\")\n",
       "        .then(() => maybeLoadScript(\"vega-lite\", \"4.17.0\"))\n",
       "        .then(() => maybeLoadScript(\"vega-embed\", \"6\"))\n",
       "        .catch(showError)\n",
       "        .then(() => displayChart(vegaEmbed));\n",
       "    }\n",
       "  })({\"config\": {\"view\": {\"continuousWidth\": 400, \"continuousHeight\": 300}}, \"data\": {\"name\": \"data-905c9a58ee2e37f957fb318656622bae\"}, \"mark\": {\"type\": \"area\", \"opacity\": 0.3}, \"encoding\": {\"x\": {\"field\": \"YEAR\", \"type\": \"ordinal\"}, \"y\": {\"field\": \"REFUSE\", \"title\": \"Refuse Tonnage\", \"type\": \"quantitative\"}}, \"selection\": {\"selector007\": {\"type\": \"interval\", \"bind\": \"scales\", \"encodings\": [\"x\", \"y\"]}}, \"$schema\": \"https://vega.github.io/schema/vega-lite/v4.17.0.json\", \"datasets\": {\"data-905c9a58ee2e37f957fb318656622bae\": [{\"YEAR\": 1990, \"MGP\": 0.0, \"ORGANICS\": 0.0, \"PAPER\": 0.0, \"REFUSE\": 303504.4}, {\"YEAR\": 1991, \"MGP\": 0.0, \"ORGANICS\": 0.0, \"PAPER\": 0.0, \"REFUSE\": 2345895.0}, {\"YEAR\": 1992, \"MGP\": 0.0, \"ORGANICS\": 0.0, \"PAPER\": 0.0, \"REFUSE\": 2906071.8}, {\"YEAR\": 1993, \"MGP\": 86539.7, \"ORGANICS\": 3422.1, \"PAPER\": 139116.6, \"REFUSE\": 2751928.6}, {\"YEAR\": 1994, \"MGP\": 162526.0, \"ORGANICS\": 2780.9, \"PAPER\": 256137.0, \"REFUSE\": 2753880.2}, {\"YEAR\": 1995, \"MGP\": 168124.7, \"ORGANICS\": 3322.1, \"PAPER\": 231199.4, \"REFUSE\": 2691016.3}, {\"YEAR\": 1996, \"MGP\": 173701.1, \"ORGANICS\": 2287.8, \"PAPER\": 256605.0, \"REFUSE\": 2770664.8}, {\"YEAR\": 1997, \"MGP\": 193311.5, \"ORGANICS\": 4670.3, \"PAPER\": 221320.7, \"REFUSE\": 2691786.0}, {\"YEAR\": 1998, \"MGP\": 243912.0, \"ORGANICS\": 6893.400000000001, \"PAPER\": 230916.8, \"REFUSE\": 2608081.4}, {\"YEAR\": 1999, \"MGP\": 275585.8, \"ORGANICS\": 18671.6, \"PAPER\": 243095.8, \"REFUSE\": 2576848.3}, {\"YEAR\": 2000, \"MGP\": 299002.1, \"ORGANICS\": 16015.6, \"PAPER\": 253064.4, \"REFUSE\": 2565089.4}, {\"YEAR\": 2001, \"MGP\": 312362.0, \"ORGANICS\": 17936.0, \"PAPER\": 241365.1, \"REFUSE\": 2648601.4}, {\"YEAR\": 2002, \"MGP\": 155990.5, \"ORGANICS\": 14.8, \"PAPER\": 208997.9, \"REFUSE\": 2875495.1}, {\"YEAR\": 2003, \"MGP\": 1.0, \"ORGANICS\": 12.7, \"PAPER\": 193667.8, \"REFUSE\": 3074509.7}, {\"YEAR\": 2004, \"MGP\": 186858.7, \"ORGANICS\": 17042.2, \"PAPER\": 329546.2, \"REFUSE\": 2905797.3}, {\"YEAR\": 2005, \"MGP\": 243745.7, \"ORGANICS\": 13178.6, \"PAPER\": 372156.4, \"REFUSE\": 2805761.1}, {\"YEAR\": 2006, \"MGP\": 234817.2, \"ORGANICS\": 17816.100000000002, \"PAPER\": 353539.0, \"REFUSE\": 2759260.1}, {\"YEAR\": 2007, \"MGP\": 227955.1, \"ORGANICS\": 4866.2, \"PAPER\": 346711.6, \"REFUSE\": 2692388.4}, {\"YEAR\": 2008, \"MGP\": 228650.4, \"ORGANICS\": 15.0, \"PAPER\": 341015.4, \"REFUSE\": 2629856.3}, {\"YEAR\": 2009, \"MGP\": 231092.6, \"ORGANICS\": 0.0, \"PAPER\": 311240.8, \"REFUSE\": 2591531.2}, {\"YEAR\": 2010, \"MGP\": 220878.2, \"ORGANICS\": 0.0, \"PAPER\": 299359.3, \"REFUSE\": 2534393.8}, {\"YEAR\": 2011, \"MGP\": 219438.2, \"ORGANICS\": 0.0, \"PAPER\": 301957.2, \"REFUSE\": 2663828.9}, {\"YEAR\": 2012, \"MGP\": 211631.0, \"ORGANICS\": 146.5, \"PAPER\": 283164.4, \"REFUSE\": 2586978.9}, {\"YEAR\": 2013, \"MGP\": 219805.5, \"ORGANICS\": 1650.8, \"PAPER\": 284065.8, \"REFUSE\": 2553356.8}, {\"YEAR\": 2014, \"MGP\": 234966.0, \"ORGANICS\": 8201.9, \"PAPER\": 288735.8, \"REFUSE\": 2528444.5}, {\"YEAR\": 2015, \"MGP\": 251379.0, \"ORGANICS\": 13665.2, \"PAPER\": 292723.3, \"REFUSE\": 2498990.8}, {\"YEAR\": 2016, \"MGP\": 275263.9, \"ORGANICS\": 20554.7, \"PAPER\": 299344.8, \"REFUSE\": 2503022.1}, {\"YEAR\": 2017, \"MGP\": 283443.5, \"ORGANICS\": 32113.4, \"PAPER\": 294064.2, \"REFUSE\": 2504633.6}, {\"YEAR\": 2018, \"MGP\": 290270.8, \"ORGANICS\": 45389.9, \"PAPER\": 303129.0, \"REFUSE\": 2528012.3}, {\"YEAR\": 2019, \"MGP\": 299943.1, \"ORGANICS\": 43416.6, \"PAPER\": 298673.3, \"REFUSE\": 2513397.1}, {\"YEAR\": 2020, \"MGP\": 348329.8, \"ORGANICS\": 11419.3, \"PAPER\": 312203.2, \"REFUSE\": 2664571.9}, {\"YEAR\": 2021, \"MGP\": 318676.6, \"ORGANICS\": 3849.2, \"PAPER\": 309542.9, \"REFUSE\": 2670184.7}]}}, {\"mode\": \"vega-lite\"});\n",
       "</script>"
      ],
      "text/plain": [
       "alt.Chart(...)"
      ]
     },
     "execution_count": 75,
     "metadata": {},
     "output_type": "execute_result"
    }
   ],
   "source": [
    "alt.Chart(DSNY_pivot).mark_area(opacity=0.3).encode(\n",
    "    alt.X(\"YEAR\", type = \"ordinal\"),\n",
    "    alt.Y(\"REFUSE\", type = \"quantitative\", title=\"Refuse Tonnage\")\n",
    ").interactive()"
   ]
  },
  {
   "cell_type": "code",
   "execution_count": 67,
   "metadata": {},
   "outputs": [
    {
     "data": {
      "text/html": [
       "\n",
       "<div id=\"altair-viz-c576cabfa5334948bc0acf9b2cdb40c1\"></div>\n",
       "<script type=\"text/javascript\">\n",
       "  var VEGA_DEBUG = (typeof VEGA_DEBUG == \"undefined\") ? {} : VEGA_DEBUG;\n",
       "  (function(spec, embedOpt){\n",
       "    let outputDiv = document.currentScript.previousElementSibling;\n",
       "    if (outputDiv.id !== \"altair-viz-c576cabfa5334948bc0acf9b2cdb40c1\") {\n",
       "      outputDiv = document.getElementById(\"altair-viz-c576cabfa5334948bc0acf9b2cdb40c1\");\n",
       "    }\n",
       "    const paths = {\n",
       "      \"vega\": \"https://cdn.jsdelivr.net/npm//vega@5?noext\",\n",
       "      \"vega-lib\": \"https://cdn.jsdelivr.net/npm//vega-lib?noext\",\n",
       "      \"vega-lite\": \"https://cdn.jsdelivr.net/npm//vega-lite@4.17.0?noext\",\n",
       "      \"vega-embed\": \"https://cdn.jsdelivr.net/npm//vega-embed@6?noext\",\n",
       "    };\n",
       "\n",
       "    function maybeLoadScript(lib, version) {\n",
       "      var key = `${lib.replace(\"-\", \"\")}_version`;\n",
       "      return (VEGA_DEBUG[key] == version) ?\n",
       "        Promise.resolve(paths[lib]) :\n",
       "        new Promise(function(resolve, reject) {\n",
       "          var s = document.createElement('script');\n",
       "          document.getElementsByTagName(\"head\")[0].appendChild(s);\n",
       "          s.async = true;\n",
       "          s.onload = () => {\n",
       "            VEGA_DEBUG[key] = version;\n",
       "            return resolve(paths[lib]);\n",
       "          };\n",
       "          s.onerror = () => reject(`Error loading script: ${paths[lib]}`);\n",
       "          s.src = paths[lib];\n",
       "        });\n",
       "    }\n",
       "\n",
       "    function showError(err) {\n",
       "      outputDiv.innerHTML = `<div class=\"error\" style=\"color:red;\">${err}</div>`;\n",
       "      throw err;\n",
       "    }\n",
       "\n",
       "    function displayChart(vegaEmbed) {\n",
       "      vegaEmbed(outputDiv, spec, embedOpt)\n",
       "        .catch(err => showError(`Javascript Error: ${err.message}<br>This usually means there's a typo in your chart specification. See the javascript console for the full traceback.`));\n",
       "    }\n",
       "\n",
       "    if(typeof define === \"function\" && define.amd) {\n",
       "      requirejs.config({paths});\n",
       "      require([\"vega-embed\"], displayChart, err => showError(`Error loading script: ${err.message}`));\n",
       "    } else {\n",
       "      maybeLoadScript(\"vega\", \"5\")\n",
       "        .then(() => maybeLoadScript(\"vega-lite\", \"4.17.0\"))\n",
       "        .then(() => maybeLoadScript(\"vega-embed\", \"6\"))\n",
       "        .catch(showError)\n",
       "        .then(() => displayChart(vegaEmbed));\n",
       "    }\n",
       "  })({\"config\": {\"view\": {\"continuousWidth\": 400, \"continuousHeight\": 300}}, \"data\": {\"name\": \"data-905c9a58ee2e37f957fb318656622bae\"}, \"mark\": {\"type\": \"area\", \"opacity\": 0.3}, \"encoding\": {\"x\": {\"field\": \"YEAR\", \"type\": \"ordinal\"}, \"y\": {\"field\": \"MGP\", \"title\": \"MGP Tonnage\", \"type\": \"quantitative\"}}, \"selection\": {\"selector003\": {\"type\": \"interval\", \"bind\": \"scales\", \"encodings\": [\"x\", \"y\"]}}, \"$schema\": \"https://vega.github.io/schema/vega-lite/v4.17.0.json\", \"datasets\": {\"data-905c9a58ee2e37f957fb318656622bae\": [{\"YEAR\": 1990, \"MGP\": 0.0, \"ORGANICS\": 0.0, \"PAPER\": 0.0, \"REFUSE\": 303504.4}, {\"YEAR\": 1991, \"MGP\": 0.0, \"ORGANICS\": 0.0, \"PAPER\": 0.0, \"REFUSE\": 2345895.0}, {\"YEAR\": 1992, \"MGP\": 0.0, \"ORGANICS\": 0.0, \"PAPER\": 0.0, \"REFUSE\": 2906071.8}, {\"YEAR\": 1993, \"MGP\": 86539.7, \"ORGANICS\": 3422.1, \"PAPER\": 139116.6, \"REFUSE\": 2751928.6}, {\"YEAR\": 1994, \"MGP\": 162526.0, \"ORGANICS\": 2780.9, \"PAPER\": 256137.0, \"REFUSE\": 2753880.2}, {\"YEAR\": 1995, \"MGP\": 168124.7, \"ORGANICS\": 3322.1, \"PAPER\": 231199.4, \"REFUSE\": 2691016.3}, {\"YEAR\": 1996, \"MGP\": 173701.1, \"ORGANICS\": 2287.8, \"PAPER\": 256605.0, \"REFUSE\": 2770664.8}, {\"YEAR\": 1997, \"MGP\": 193311.5, \"ORGANICS\": 4670.3, \"PAPER\": 221320.7, \"REFUSE\": 2691786.0}, {\"YEAR\": 1998, \"MGP\": 243912.0, \"ORGANICS\": 6893.400000000001, \"PAPER\": 230916.8, \"REFUSE\": 2608081.4}, {\"YEAR\": 1999, \"MGP\": 275585.8, \"ORGANICS\": 18671.6, \"PAPER\": 243095.8, \"REFUSE\": 2576848.3}, {\"YEAR\": 2000, \"MGP\": 299002.1, \"ORGANICS\": 16015.6, \"PAPER\": 253064.4, \"REFUSE\": 2565089.4}, {\"YEAR\": 2001, \"MGP\": 312362.0, \"ORGANICS\": 17936.0, \"PAPER\": 241365.1, \"REFUSE\": 2648601.4}, {\"YEAR\": 2002, \"MGP\": 155990.5, \"ORGANICS\": 14.8, \"PAPER\": 208997.9, \"REFUSE\": 2875495.1}, {\"YEAR\": 2003, \"MGP\": 1.0, \"ORGANICS\": 12.7, \"PAPER\": 193667.8, \"REFUSE\": 3074509.7}, {\"YEAR\": 2004, \"MGP\": 186858.7, \"ORGANICS\": 17042.2, \"PAPER\": 329546.2, \"REFUSE\": 2905797.3}, {\"YEAR\": 2005, \"MGP\": 243745.7, \"ORGANICS\": 13178.6, \"PAPER\": 372156.4, \"REFUSE\": 2805761.1}, {\"YEAR\": 2006, \"MGP\": 234817.2, \"ORGANICS\": 17816.100000000002, \"PAPER\": 353539.0, \"REFUSE\": 2759260.1}, {\"YEAR\": 2007, \"MGP\": 227955.1, \"ORGANICS\": 4866.2, \"PAPER\": 346711.6, \"REFUSE\": 2692388.4}, {\"YEAR\": 2008, \"MGP\": 228650.4, \"ORGANICS\": 15.0, \"PAPER\": 341015.4, \"REFUSE\": 2629856.3}, {\"YEAR\": 2009, \"MGP\": 231092.6, \"ORGANICS\": 0.0, \"PAPER\": 311240.8, \"REFUSE\": 2591531.2}, {\"YEAR\": 2010, \"MGP\": 220878.2, \"ORGANICS\": 0.0, \"PAPER\": 299359.3, \"REFUSE\": 2534393.8}, {\"YEAR\": 2011, \"MGP\": 219438.2, \"ORGANICS\": 0.0, \"PAPER\": 301957.2, \"REFUSE\": 2663828.9}, {\"YEAR\": 2012, \"MGP\": 211631.0, \"ORGANICS\": 146.5, \"PAPER\": 283164.4, \"REFUSE\": 2586978.9}, {\"YEAR\": 2013, \"MGP\": 219805.5, \"ORGANICS\": 1650.8, \"PAPER\": 284065.8, \"REFUSE\": 2553356.8}, {\"YEAR\": 2014, \"MGP\": 234966.0, \"ORGANICS\": 8201.9, \"PAPER\": 288735.8, \"REFUSE\": 2528444.5}, {\"YEAR\": 2015, \"MGP\": 251379.0, \"ORGANICS\": 13665.2, \"PAPER\": 292723.3, \"REFUSE\": 2498990.8}, {\"YEAR\": 2016, \"MGP\": 275263.9, \"ORGANICS\": 20554.7, \"PAPER\": 299344.8, \"REFUSE\": 2503022.1}, {\"YEAR\": 2017, \"MGP\": 283443.5, \"ORGANICS\": 32113.4, \"PAPER\": 294064.2, \"REFUSE\": 2504633.6}, {\"YEAR\": 2018, \"MGP\": 290270.8, \"ORGANICS\": 45389.9, \"PAPER\": 303129.0, \"REFUSE\": 2528012.3}, {\"YEAR\": 2019, \"MGP\": 299943.1, \"ORGANICS\": 43416.6, \"PAPER\": 298673.3, \"REFUSE\": 2513397.1}, {\"YEAR\": 2020, \"MGP\": 348329.8, \"ORGANICS\": 11419.3, \"PAPER\": 312203.2, \"REFUSE\": 2664571.9}, {\"YEAR\": 2021, \"MGP\": 318676.6, \"ORGANICS\": 3849.2, \"PAPER\": 309542.9, \"REFUSE\": 2670184.7}]}}, {\"mode\": \"vega-lite\"});\n",
       "</script>"
      ],
      "text/plain": [
       "alt.Chart(...)"
      ]
     },
     "execution_count": 67,
     "metadata": {},
     "output_type": "execute_result"
    }
   ],
   "source": [
    "alt.Chart(DSNY_pivot).mark_area(opacity=0.3).encode(\n",
    "    alt.X(\"YEAR\", type = \"ordinal\"),\n",
    "    alt.Y(\"MGP\", type = \"quantitative\", title=\"MGP Tonnage\")\n",
    ").interactive()"
   ]
  },
  {
   "cell_type": "code",
   "execution_count": 69,
   "metadata": {},
   "outputs": [
    {
     "data": {
      "text/html": [
       "\n",
       "<div id=\"altair-viz-bf93921affd544118ba543d4cfea0a37\"></div>\n",
       "<script type=\"text/javascript\">\n",
       "  var VEGA_DEBUG = (typeof VEGA_DEBUG == \"undefined\") ? {} : VEGA_DEBUG;\n",
       "  (function(spec, embedOpt){\n",
       "    let outputDiv = document.currentScript.previousElementSibling;\n",
       "    if (outputDiv.id !== \"altair-viz-bf93921affd544118ba543d4cfea0a37\") {\n",
       "      outputDiv = document.getElementById(\"altair-viz-bf93921affd544118ba543d4cfea0a37\");\n",
       "    }\n",
       "    const paths = {\n",
       "      \"vega\": \"https://cdn.jsdelivr.net/npm//vega@5?noext\",\n",
       "      \"vega-lib\": \"https://cdn.jsdelivr.net/npm//vega-lib?noext\",\n",
       "      \"vega-lite\": \"https://cdn.jsdelivr.net/npm//vega-lite@4.17.0?noext\",\n",
       "      \"vega-embed\": \"https://cdn.jsdelivr.net/npm//vega-embed@6?noext\",\n",
       "    };\n",
       "\n",
       "    function maybeLoadScript(lib, version) {\n",
       "      var key = `${lib.replace(\"-\", \"\")}_version`;\n",
       "      return (VEGA_DEBUG[key] == version) ?\n",
       "        Promise.resolve(paths[lib]) :\n",
       "        new Promise(function(resolve, reject) {\n",
       "          var s = document.createElement('script');\n",
       "          document.getElementsByTagName(\"head\")[0].appendChild(s);\n",
       "          s.async = true;\n",
       "          s.onload = () => {\n",
       "            VEGA_DEBUG[key] = version;\n",
       "            return resolve(paths[lib]);\n",
       "          };\n",
       "          s.onerror = () => reject(`Error loading script: ${paths[lib]}`);\n",
       "          s.src = paths[lib];\n",
       "        });\n",
       "    }\n",
       "\n",
       "    function showError(err) {\n",
       "      outputDiv.innerHTML = `<div class=\"error\" style=\"color:red;\">${err}</div>`;\n",
       "      throw err;\n",
       "    }\n",
       "\n",
       "    function displayChart(vegaEmbed) {\n",
       "      vegaEmbed(outputDiv, spec, embedOpt)\n",
       "        .catch(err => showError(`Javascript Error: ${err.message}<br>This usually means there's a typo in your chart specification. See the javascript console for the full traceback.`));\n",
       "    }\n",
       "\n",
       "    if(typeof define === \"function\" && define.amd) {\n",
       "      requirejs.config({paths});\n",
       "      require([\"vega-embed\"], displayChart, err => showError(`Error loading script: ${err.message}`));\n",
       "    } else {\n",
       "      maybeLoadScript(\"vega\", \"5\")\n",
       "        .then(() => maybeLoadScript(\"vega-lite\", \"4.17.0\"))\n",
       "        .then(() => maybeLoadScript(\"vega-embed\", \"6\"))\n",
       "        .catch(showError)\n",
       "        .then(() => displayChart(vegaEmbed));\n",
       "    }\n",
       "  })({\"config\": {\"view\": {\"continuousWidth\": 400, \"continuousHeight\": 300}}, \"data\": {\"name\": \"data-905c9a58ee2e37f957fb318656622bae\"}, \"mark\": {\"type\": \"area\", \"opacity\": 0.3}, \"encoding\": {\"x\": {\"field\": \"YEAR\", \"type\": \"ordinal\"}, \"y\": {\"field\": \"ORGANICS\", \"title\": \"Organics Tonnage\", \"type\": \"quantitative\"}}, \"selection\": {\"selector004\": {\"type\": \"interval\", \"bind\": \"scales\", \"encodings\": [\"x\", \"y\"]}}, \"$schema\": \"https://vega.github.io/schema/vega-lite/v4.17.0.json\", \"datasets\": {\"data-905c9a58ee2e37f957fb318656622bae\": [{\"YEAR\": 1990, \"MGP\": 0.0, \"ORGANICS\": 0.0, \"PAPER\": 0.0, \"REFUSE\": 303504.4}, {\"YEAR\": 1991, \"MGP\": 0.0, \"ORGANICS\": 0.0, \"PAPER\": 0.0, \"REFUSE\": 2345895.0}, {\"YEAR\": 1992, \"MGP\": 0.0, \"ORGANICS\": 0.0, \"PAPER\": 0.0, \"REFUSE\": 2906071.8}, {\"YEAR\": 1993, \"MGP\": 86539.7, \"ORGANICS\": 3422.1, \"PAPER\": 139116.6, \"REFUSE\": 2751928.6}, {\"YEAR\": 1994, \"MGP\": 162526.0, \"ORGANICS\": 2780.9, \"PAPER\": 256137.0, \"REFUSE\": 2753880.2}, {\"YEAR\": 1995, \"MGP\": 168124.7, \"ORGANICS\": 3322.1, \"PAPER\": 231199.4, \"REFUSE\": 2691016.3}, {\"YEAR\": 1996, \"MGP\": 173701.1, \"ORGANICS\": 2287.8, \"PAPER\": 256605.0, \"REFUSE\": 2770664.8}, {\"YEAR\": 1997, \"MGP\": 193311.5, \"ORGANICS\": 4670.3, \"PAPER\": 221320.7, \"REFUSE\": 2691786.0}, {\"YEAR\": 1998, \"MGP\": 243912.0, \"ORGANICS\": 6893.400000000001, \"PAPER\": 230916.8, \"REFUSE\": 2608081.4}, {\"YEAR\": 1999, \"MGP\": 275585.8, \"ORGANICS\": 18671.6, \"PAPER\": 243095.8, \"REFUSE\": 2576848.3}, {\"YEAR\": 2000, \"MGP\": 299002.1, \"ORGANICS\": 16015.6, \"PAPER\": 253064.4, \"REFUSE\": 2565089.4}, {\"YEAR\": 2001, \"MGP\": 312362.0, \"ORGANICS\": 17936.0, \"PAPER\": 241365.1, \"REFUSE\": 2648601.4}, {\"YEAR\": 2002, \"MGP\": 155990.5, \"ORGANICS\": 14.8, \"PAPER\": 208997.9, \"REFUSE\": 2875495.1}, {\"YEAR\": 2003, \"MGP\": 1.0, \"ORGANICS\": 12.7, \"PAPER\": 193667.8, \"REFUSE\": 3074509.7}, {\"YEAR\": 2004, \"MGP\": 186858.7, \"ORGANICS\": 17042.2, \"PAPER\": 329546.2, \"REFUSE\": 2905797.3}, {\"YEAR\": 2005, \"MGP\": 243745.7, \"ORGANICS\": 13178.6, \"PAPER\": 372156.4, \"REFUSE\": 2805761.1}, {\"YEAR\": 2006, \"MGP\": 234817.2, \"ORGANICS\": 17816.100000000002, \"PAPER\": 353539.0, \"REFUSE\": 2759260.1}, {\"YEAR\": 2007, \"MGP\": 227955.1, \"ORGANICS\": 4866.2, \"PAPER\": 346711.6, \"REFUSE\": 2692388.4}, {\"YEAR\": 2008, \"MGP\": 228650.4, \"ORGANICS\": 15.0, \"PAPER\": 341015.4, \"REFUSE\": 2629856.3}, {\"YEAR\": 2009, \"MGP\": 231092.6, \"ORGANICS\": 0.0, \"PAPER\": 311240.8, \"REFUSE\": 2591531.2}, {\"YEAR\": 2010, \"MGP\": 220878.2, \"ORGANICS\": 0.0, \"PAPER\": 299359.3, \"REFUSE\": 2534393.8}, {\"YEAR\": 2011, \"MGP\": 219438.2, \"ORGANICS\": 0.0, \"PAPER\": 301957.2, \"REFUSE\": 2663828.9}, {\"YEAR\": 2012, \"MGP\": 211631.0, \"ORGANICS\": 146.5, \"PAPER\": 283164.4, \"REFUSE\": 2586978.9}, {\"YEAR\": 2013, \"MGP\": 219805.5, \"ORGANICS\": 1650.8, \"PAPER\": 284065.8, \"REFUSE\": 2553356.8}, {\"YEAR\": 2014, \"MGP\": 234966.0, \"ORGANICS\": 8201.9, \"PAPER\": 288735.8, \"REFUSE\": 2528444.5}, {\"YEAR\": 2015, \"MGP\": 251379.0, \"ORGANICS\": 13665.2, \"PAPER\": 292723.3, \"REFUSE\": 2498990.8}, {\"YEAR\": 2016, \"MGP\": 275263.9, \"ORGANICS\": 20554.7, \"PAPER\": 299344.8, \"REFUSE\": 2503022.1}, {\"YEAR\": 2017, \"MGP\": 283443.5, \"ORGANICS\": 32113.4, \"PAPER\": 294064.2, \"REFUSE\": 2504633.6}, {\"YEAR\": 2018, \"MGP\": 290270.8, \"ORGANICS\": 45389.9, \"PAPER\": 303129.0, \"REFUSE\": 2528012.3}, {\"YEAR\": 2019, \"MGP\": 299943.1, \"ORGANICS\": 43416.6, \"PAPER\": 298673.3, \"REFUSE\": 2513397.1}, {\"YEAR\": 2020, \"MGP\": 348329.8, \"ORGANICS\": 11419.3, \"PAPER\": 312203.2, \"REFUSE\": 2664571.9}, {\"YEAR\": 2021, \"MGP\": 318676.6, \"ORGANICS\": 3849.2, \"PAPER\": 309542.9, \"REFUSE\": 2670184.7}]}}, {\"mode\": \"vega-lite\"});\n",
       "</script>"
      ],
      "text/plain": [
       "alt.Chart(...)"
      ]
     },
     "execution_count": 69,
     "metadata": {},
     "output_type": "execute_result"
    }
   ],
   "source": [
    "alt.Chart(DSNY_pivot).mark_area(opacity=0.3).encode(\n",
    "    alt.X(\"YEAR\", type = \"ordinal\"),\n",
    "    alt.Y(\"ORGANICS\", type = \"quantitative\", title = \"Organics Tonnage\")\n",
    ").interactive()"
   ]
  },
  {
   "cell_type": "code",
   "execution_count": 70,
   "metadata": {},
   "outputs": [
    {
     "data": {
      "text/html": [
       "\n",
       "<div id=\"altair-viz-e0367212070f4b028cd9cd27c7e2e99c\"></div>\n",
       "<script type=\"text/javascript\">\n",
       "  var VEGA_DEBUG = (typeof VEGA_DEBUG == \"undefined\") ? {} : VEGA_DEBUG;\n",
       "  (function(spec, embedOpt){\n",
       "    let outputDiv = document.currentScript.previousElementSibling;\n",
       "    if (outputDiv.id !== \"altair-viz-e0367212070f4b028cd9cd27c7e2e99c\") {\n",
       "      outputDiv = document.getElementById(\"altair-viz-e0367212070f4b028cd9cd27c7e2e99c\");\n",
       "    }\n",
       "    const paths = {\n",
       "      \"vega\": \"https://cdn.jsdelivr.net/npm//vega@5?noext\",\n",
       "      \"vega-lib\": \"https://cdn.jsdelivr.net/npm//vega-lib?noext\",\n",
       "      \"vega-lite\": \"https://cdn.jsdelivr.net/npm//vega-lite@4.17.0?noext\",\n",
       "      \"vega-embed\": \"https://cdn.jsdelivr.net/npm//vega-embed@6?noext\",\n",
       "    };\n",
       "\n",
       "    function maybeLoadScript(lib, version) {\n",
       "      var key = `${lib.replace(\"-\", \"\")}_version`;\n",
       "      return (VEGA_DEBUG[key] == version) ?\n",
       "        Promise.resolve(paths[lib]) :\n",
       "        new Promise(function(resolve, reject) {\n",
       "          var s = document.createElement('script');\n",
       "          document.getElementsByTagName(\"head\")[0].appendChild(s);\n",
       "          s.async = true;\n",
       "          s.onload = () => {\n",
       "            VEGA_DEBUG[key] = version;\n",
       "            return resolve(paths[lib]);\n",
       "          };\n",
       "          s.onerror = () => reject(`Error loading script: ${paths[lib]}`);\n",
       "          s.src = paths[lib];\n",
       "        });\n",
       "    }\n",
       "\n",
       "    function showError(err) {\n",
       "      outputDiv.innerHTML = `<div class=\"error\" style=\"color:red;\">${err}</div>`;\n",
       "      throw err;\n",
       "    }\n",
       "\n",
       "    function displayChart(vegaEmbed) {\n",
       "      vegaEmbed(outputDiv, spec, embedOpt)\n",
       "        .catch(err => showError(`Javascript Error: ${err.message}<br>This usually means there's a typo in your chart specification. See the javascript console for the full traceback.`));\n",
       "    }\n",
       "\n",
       "    if(typeof define === \"function\" && define.amd) {\n",
       "      requirejs.config({paths});\n",
       "      require([\"vega-embed\"], displayChart, err => showError(`Error loading script: ${err.message}`));\n",
       "    } else {\n",
       "      maybeLoadScript(\"vega\", \"5\")\n",
       "        .then(() => maybeLoadScript(\"vega-lite\", \"4.17.0\"))\n",
       "        .then(() => maybeLoadScript(\"vega-embed\", \"6\"))\n",
       "        .catch(showError)\n",
       "        .then(() => displayChart(vegaEmbed));\n",
       "    }\n",
       "  })({\"config\": {\"view\": {\"continuousWidth\": 400, \"continuousHeight\": 300}}, \"data\": {\"name\": \"data-905c9a58ee2e37f957fb318656622bae\"}, \"mark\": {\"type\": \"area\", \"opacity\": 0.3}, \"encoding\": {\"x\": {\"field\": \"YEAR\", \"type\": \"ordinal\"}, \"y\": {\"field\": \"PAPER\", \"title\": \"Paper Tonnage\", \"type\": \"quantitative\"}}, \"selection\": {\"selector005\": {\"type\": \"interval\", \"bind\": \"scales\", \"encodings\": [\"x\", \"y\"]}}, \"$schema\": \"https://vega.github.io/schema/vega-lite/v4.17.0.json\", \"datasets\": {\"data-905c9a58ee2e37f957fb318656622bae\": [{\"YEAR\": 1990, \"MGP\": 0.0, \"ORGANICS\": 0.0, \"PAPER\": 0.0, \"REFUSE\": 303504.4}, {\"YEAR\": 1991, \"MGP\": 0.0, \"ORGANICS\": 0.0, \"PAPER\": 0.0, \"REFUSE\": 2345895.0}, {\"YEAR\": 1992, \"MGP\": 0.0, \"ORGANICS\": 0.0, \"PAPER\": 0.0, \"REFUSE\": 2906071.8}, {\"YEAR\": 1993, \"MGP\": 86539.7, \"ORGANICS\": 3422.1, \"PAPER\": 139116.6, \"REFUSE\": 2751928.6}, {\"YEAR\": 1994, \"MGP\": 162526.0, \"ORGANICS\": 2780.9, \"PAPER\": 256137.0, \"REFUSE\": 2753880.2}, {\"YEAR\": 1995, \"MGP\": 168124.7, \"ORGANICS\": 3322.1, \"PAPER\": 231199.4, \"REFUSE\": 2691016.3}, {\"YEAR\": 1996, \"MGP\": 173701.1, \"ORGANICS\": 2287.8, \"PAPER\": 256605.0, \"REFUSE\": 2770664.8}, {\"YEAR\": 1997, \"MGP\": 193311.5, \"ORGANICS\": 4670.3, \"PAPER\": 221320.7, \"REFUSE\": 2691786.0}, {\"YEAR\": 1998, \"MGP\": 243912.0, \"ORGANICS\": 6893.400000000001, \"PAPER\": 230916.8, \"REFUSE\": 2608081.4}, {\"YEAR\": 1999, \"MGP\": 275585.8, \"ORGANICS\": 18671.6, \"PAPER\": 243095.8, \"REFUSE\": 2576848.3}, {\"YEAR\": 2000, \"MGP\": 299002.1, \"ORGANICS\": 16015.6, \"PAPER\": 253064.4, \"REFUSE\": 2565089.4}, {\"YEAR\": 2001, \"MGP\": 312362.0, \"ORGANICS\": 17936.0, \"PAPER\": 241365.1, \"REFUSE\": 2648601.4}, {\"YEAR\": 2002, \"MGP\": 155990.5, \"ORGANICS\": 14.8, \"PAPER\": 208997.9, \"REFUSE\": 2875495.1}, {\"YEAR\": 2003, \"MGP\": 1.0, \"ORGANICS\": 12.7, \"PAPER\": 193667.8, \"REFUSE\": 3074509.7}, {\"YEAR\": 2004, \"MGP\": 186858.7, \"ORGANICS\": 17042.2, \"PAPER\": 329546.2, \"REFUSE\": 2905797.3}, {\"YEAR\": 2005, \"MGP\": 243745.7, \"ORGANICS\": 13178.6, \"PAPER\": 372156.4, \"REFUSE\": 2805761.1}, {\"YEAR\": 2006, \"MGP\": 234817.2, \"ORGANICS\": 17816.100000000002, \"PAPER\": 353539.0, \"REFUSE\": 2759260.1}, {\"YEAR\": 2007, \"MGP\": 227955.1, \"ORGANICS\": 4866.2, \"PAPER\": 346711.6, \"REFUSE\": 2692388.4}, {\"YEAR\": 2008, \"MGP\": 228650.4, \"ORGANICS\": 15.0, \"PAPER\": 341015.4, \"REFUSE\": 2629856.3}, {\"YEAR\": 2009, \"MGP\": 231092.6, \"ORGANICS\": 0.0, \"PAPER\": 311240.8, \"REFUSE\": 2591531.2}, {\"YEAR\": 2010, \"MGP\": 220878.2, \"ORGANICS\": 0.0, \"PAPER\": 299359.3, \"REFUSE\": 2534393.8}, {\"YEAR\": 2011, \"MGP\": 219438.2, \"ORGANICS\": 0.0, \"PAPER\": 301957.2, \"REFUSE\": 2663828.9}, {\"YEAR\": 2012, \"MGP\": 211631.0, \"ORGANICS\": 146.5, \"PAPER\": 283164.4, \"REFUSE\": 2586978.9}, {\"YEAR\": 2013, \"MGP\": 219805.5, \"ORGANICS\": 1650.8, \"PAPER\": 284065.8, \"REFUSE\": 2553356.8}, {\"YEAR\": 2014, \"MGP\": 234966.0, \"ORGANICS\": 8201.9, \"PAPER\": 288735.8, \"REFUSE\": 2528444.5}, {\"YEAR\": 2015, \"MGP\": 251379.0, \"ORGANICS\": 13665.2, \"PAPER\": 292723.3, \"REFUSE\": 2498990.8}, {\"YEAR\": 2016, \"MGP\": 275263.9, \"ORGANICS\": 20554.7, \"PAPER\": 299344.8, \"REFUSE\": 2503022.1}, {\"YEAR\": 2017, \"MGP\": 283443.5, \"ORGANICS\": 32113.4, \"PAPER\": 294064.2, \"REFUSE\": 2504633.6}, {\"YEAR\": 2018, \"MGP\": 290270.8, \"ORGANICS\": 45389.9, \"PAPER\": 303129.0, \"REFUSE\": 2528012.3}, {\"YEAR\": 2019, \"MGP\": 299943.1, \"ORGANICS\": 43416.6, \"PAPER\": 298673.3, \"REFUSE\": 2513397.1}, {\"YEAR\": 2020, \"MGP\": 348329.8, \"ORGANICS\": 11419.3, \"PAPER\": 312203.2, \"REFUSE\": 2664571.9}, {\"YEAR\": 2021, \"MGP\": 318676.6, \"ORGANICS\": 3849.2, \"PAPER\": 309542.9, \"REFUSE\": 2670184.7}]}}, {\"mode\": \"vega-lite\"});\n",
       "</script>"
      ],
      "text/plain": [
       "alt.Chart(...)"
      ]
     },
     "execution_count": 70,
     "metadata": {},
     "output_type": "execute_result"
    }
   ],
   "source": [
    "alt.Chart(DSNY_pivot).mark_area(opacity=0.3).encode(\n",
    "    alt.X(\"YEAR\", type = \"ordinal\"),\n",
    "    alt.Y(\"PAPER\", type = \"quantitative\", title = \"Paper Tonnage\")\n",
    ").interactive()"
   ]
  },
  {
   "cell_type": "code",
   "execution_count": null,
   "metadata": {},
   "outputs": [],
   "source": []
  }
 ],
 "metadata": {
  "interpreter": {
   "hash": "91570868dd58e24c3258a43a5f0558d480e2c3868fa9d87dac7912023fc84c5c"
  },
  "kernelspec": {
   "display_name": "Python 3.9.7 ('sfds')",
   "language": "python",
   "name": "python3"
  },
  "language_info": {
   "codemirror_mode": {
    "name": "ipython",
    "version": 3
   },
   "file_extension": ".py",
   "mimetype": "text/x-python",
   "name": "python",
   "nbconvert_exporter": "python",
   "pygments_lexer": "ipython3",
   "version": "3.9.7"
  },
  "orig_nbformat": 4
 },
 "nbformat": 4,
 "nbformat_minor": 2
}
