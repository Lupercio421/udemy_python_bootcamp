{
  "cells": [
    {
      "cell_type": "code",
      "execution_count": 1,
      "metadata": {},
      "outputs": [],
      "source": [
        "# In this tutorial I'll cover the other 2 Linear Data Structures being Deques and Lists.\n",
        "\n",
        "# DEQUES : A collection that allows you to add or remove data\n",
        "# from either the front or end of the list.\n",
        "\n",
        "class Deque:\n",
        "    def __init__(self):\n",
        "        # assign an empty list\n",
        "        self.deque = []\n",
        "\n",
        "    def add_front(self, data):\n",
        "        #add value to the front\n",
        "        self.deque.append(data)\n",
        "\n",
        "    def add_rear(self, data):\n",
        "        #add value to the rear\n",
        "        self.deque.insert(0, data)\n",
        "\n",
        "    def is_empty(self):\n",
        "        #check if it is empty or not\n",
        "        return self.deque == []\n",
        "\n",
        "    def remove_front(self):\n",
        "        if self.is_empty():\n",
        "            return \"Empty Deque\"\n",
        "        else:\n",
        "            return self.deque.pop()\n",
        "\n",
        "    def remove_rear(self):\n",
        "        if self.is_empty():\n",
        "            return \"Empty Deque\"\n",
        "        else:\n",
        "            return self.deque.pop(0) #the pop function will be use on the 0th index\n",
        "\n",
        "    def size(self):\n",
        "        return len(self.deque)\n",
        "\n",
        "    # Checks if string is a palindrome which is the same word forward or backward\n",
        "    # Racecar, Rotator, etc.\n",
        "    def check_palindrome(self):\n",
        "        is_palindrome = True\n",
        "        while self.size() > 1 and is_palindrome: #cycle through all of the values and compare the front values with the rear values\n",
        "            front = self.remove_front()\n",
        "            rear = self.remove_rear()\n",
        "            if front != rear:\n",
        "                is_palindrome = False\n",
        "        return is_palindrome"
      ]
    },
    {
      "cell_type": "code",
      "execution_count": 4,
      "metadata": {},
      "outputs": [],
      "source": [
        "d_1 = Deque() #initialize a deque\n",
        "d_1.add_front(\"Dog\")\n",
        "d_1.add_rear(\"Cat\")\n",
        "d_1.add_rear(\"Mouse\")"
      ]
    },
    {
      "cell_type": "code",
      "execution_count": 5,
      "metadata": {},
      "outputs": [
        {
          "name": "stdout",
          "output_type": "stream",
          "text": [
            "Front : Dog\n",
            "Rear : Mouse\n",
            "Size : 1\n",
            "Rear : Cat\n",
            "Rear : Empty Deque\n"
          ]
        }
      ],
      "source": [
        "print(f\"Front : {d_1.remove_front()}\")\n",
        "print(f\"Rear : {d_1.remove_rear()}\")\n",
        "print(f\"Size : {d_1.size()}\")\n",
        "print(f\"Rear : {d_1.remove_rear()}\")\n",
        "print(f\"Rear : {d_1.remove_rear()}\")"
      ]
    },
    {
      "cell_type": "code",
      "execution_count": 6,
      "metadata": {},
      "outputs": [
        {
          "name": "stdout",
          "output_type": "stream",
          "text": [
            "Palindrome : True\n"
          ]
        }
      ],
      "source": [
        "#Check for palindrome\n",
        "d_2 = Deque()\n",
        "word = \"racecar\"\n",
        "for i in word:\n",
        "    d_2.add_rear(i)\n",
        "print(f\"Palindrome : {d_2.check_palindrome()}\")"
      ]
    },
    {
      "cell_type": "code",
      "execution_count": 8,
      "metadata": {},
      "outputs": [
        {
          "name": "stdout",
          "output_type": "stream",
          "text": [
            "Palindrome : False\n"
          ]
        }
      ],
      "source": [
        "word_2 = \"zero\"\n",
        "for i in word_2:\n",
        "    d_2.add_rear(i)\n",
        "print(f\"Palindrome : {d_2.check_palindrome()}\")"
      ]
    },
    {
      "cell_type": "code",
      "execution_count": 9,
      "metadata": {},
      "outputs": [],
      "source": [
        "# LINKED LIST : A collection in which each item is only\n",
        "# aware of the next item in the list. The last item in\n",
        "# the list is also aware that there is no more values.\n",
        "# Linked lists refer to each item in the list as a Node.\n",
        "\n",
        "class Node:\n",
        "    def __init__(self, data):\n",
        "        self.data = data\n",
        "        # Each node starts with no reference to the next\n",
        "        self.next = None\n",
        "\n",
        "    # Retrieves data stored\n",
        "    def get_data(self):\n",
        "        return self.data\n",
        "\n",
        "    # Changes data stored. Setting the next node\n",
        "    def set_data(self, new_data):\n",
        "        self.data = new_data #self.data will now be set to whatever the new data is\n",
        "\n",
        "    # Stores the next node in the list\n",
        "    def set_next(self, new_next):\n",
        "        self.next = new_next\n",
        "\n",
        "    # Retrieves the next node in the list\n",
        "    def get_next(self):\n",
        "        return self.next\n",
        "\n",
        "\n",
        "class LinkedList:\n",
        "    # The LinkedList will be assigned the 1st Node\n",
        "    def __init__(self):\n",
        "        self.head = None\n",
        "\n",
        "    # We'll have to check if a head node exists\n",
        "    def is_empty(self):\n",
        "        return self.head is None #Check if TRUE OR FALSE, if TRUE, then it is empty. If FALSE, then there is a first node\n",
        "\n",
        "    # Adds nodes to the list by\n",
        "    # 1. Creating a new node and assigning data\n",
        "    # 2. Setting next as the previous head node\n",
        "    # 3. Making the new node the lists new head node\n",
        "    def add(self, data):\n",
        "        new_node = Node(data)\n",
        "        new_node.set_next(self.head)\n",
        "        self.head = new_node\n",
        "\n",
        "    # Removing a node requires us to :\n",
        "    # 1. Start at the head node\n",
        "    # 2. Check if it has the data we are searching for\n",
        "    # 3. If not, search for the next node in the list\n",
        "    # 4. Repeat checking for data as long as nodes are left\n",
        "    def remove(self, search_value):\n",
        "        current_node = self.head #get the head item\n",
        "        # As we cycle this stores the previous node searched\n",
        "        # so we can use it to find the next node in the list\n",
        "        prev_node = None\n",
        "        data_found = False\n",
        "\n",
        "        # Check if matching data exists\n",
        "        while not data_found:\n",
        "            if current_node.get_data() == search_value:\n",
        "                data_found = True\n",
        "            # If not use the previously checked node to find\n",
        "            # the next node in the list\n",
        "            else:\n",
        "                prev_node = current_node\n",
        "                current_node = prev_node.get_next()\n",
        "        # Assign the current nodes next node to head\n",
        "        if prev_node is None:\n",
        "            self.head = current_node.get_next()\n",
        "        else:\n",
        "            # Assign the next node\n",
        "            prev_node.set_next(current_node.get_next())\n",
        "\n",
        "    # We could increment a length value each time a\n",
        "    # new node is added, or we could cycle through\n",
        "    # the LinkedList until get_next returns None\n",
        "    def length(self):\n",
        "        # Start cycling at the head\n",
        "        current_node = self.head\n",
        "        # Stores number of nodes\n",
        "        total_nodes = 0\n",
        "        # Cycle until the next node in the list = None\n",
        "        while current_node is not None:\n",
        "            total_nodes += 1\n",
        "            current_node = current_node.get_next()\n",
        "        return total_nodes\n",
        "\n",
        "    # Searches for a value in the LinkedList and returns\n",
        "    # True or False\n",
        "    def search(self, search_value):\n",
        "        current_node = self.head\n",
        "        data_found = False\n",
        "        # Cycle through LinkedList, skipping to next node\n",
        "        # along the way until you find a match\n",
        "        while current_node is not None and not data_found:\n",
        "            if current_node.get_data() == search_value:\n",
        "                data_found = True\n",
        "            else:\n",
        "                current_node = current_node.get_next()\n",
        "        return data_found"
      ]
    },
    {
      "cell_type": "code",
      "execution_count": 10,
      "metadata": {},
      "outputs": [
        {
          "name": "stdout",
          "output_type": "stream",
          "text": [
            "Length : 2\n",
            "1 : True\n",
            "Length : 1\n",
            "1 : False\n"
          ]
        }
      ],
      "source": [
        "ll = LinkedList() #initialize our linkedlist\n",
        "ll.add(1)\n",
        "ll.add(2)\n",
        "print(f\"Length : {ll.length()}\")\n",
        "print(f\"1 : {ll.search(1)}\")\n",
        "ll.remove(1)\n",
        "print(f\"Length : {ll.length()}\")\n",
        "print(f\"1 : {ll.search(1)}\")"
      ]
    }
  ],
  "metadata": {
    "anaconda-cloud": {},
    "kernelspec": {
      "display_name": "Python 3",
      "language": "python",
      "name": "python3"
    },
    "language_info": {
      "codemirror_mode": {
        "name": "ipython",
        "version": 3
      },
      "file_extension": ".py",
      "mimetype": "text/x-python",
      "name": "python",
      "nbconvert_exporter": "python",
      "pygments_lexer": "ipython3",
      "version": "3.9.7"
    }
  },
  "nbformat": 4,
  "nbformat_minor": 4
}
