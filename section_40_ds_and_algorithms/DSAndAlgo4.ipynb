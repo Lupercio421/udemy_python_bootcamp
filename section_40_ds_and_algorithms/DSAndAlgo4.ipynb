{
  "cells": [
    {
      "cell_type": "code",
      "execution_count": 1,
      "metadata": {},
      "outputs": [],
      "source": [
        "import time\n",
        "import pandas\n",
        "\n",
        "# In this tutorial I'll cover the 2 Linear Data Structures\n",
        "# Stacks and Queues. Next time I'll cover Deques and Lists.\n",
        "# They differ based on how data is added or removed.\n",
        "\n",
        "# STACKS : A collection where items are both added and removed\n",
        "# from the top. This is known as a Last In First Out collection.\n",
        "# Think of this as a stack of books where the last one added to\n",
        "# the stack is the 1st to come off.\n",
        "\n",
        "# Here we implement the functions of a Stack using a List\n",
        "\n",
        "\n",
        "class Stack:\n",
        "    def __init__(self):\n",
        "        self.stack = []  #create an empty list\n",
        "\n",
        "    # Puts value in Stack\n",
        "    def push(self, data):\n",
        "        self.stack.insert(0, data) #insert in the 0th positon, our data\n",
        "\n",
        "    # need to implement the 'release of data from the stack'\n",
        "    def is_empty(self):\n",
        "        return self.stack == [] #will return true or false?\n",
        "\n",
        "    # Returns and deletes value from Stack\n",
        "    def pop(self):\n",
        "        if self.is_empty():\n",
        "            return \"Stack Empty\" #we are certain that this stack is empty\n",
        "        #otherwise, return a value\n",
        "        return self.stack.pop(0)\n",
        "\n",
        "    def peek(self):\n",
        "        return self.stack[0] #just return the 0th index, no manipulation done\n",
        "\n",
        "    def size(self):\n",
        "        return len(self.stack) #what is the length of our stack\n",
        "\n",
        "    # Lets create a function using our stack that reverses a string\n",
        "    def reverse_string(self):\n",
        "        while True:\n",
        "            if len(self.stack) == 0:\n",
        "                break\n",
        "            else:\n",
        "                print(self.stack.pop(0), end=\"\")\n"
      ]
    },
    {
      "cell_type": "code",
      "execution_count": 3,
      "metadata": {},
      "outputs": [],
      "source": [
        "s_1 = Stack()\n",
        "s_1.push(\"Cat\")\n",
        "s_1.push(\"Dog\")"
      ]
    },
    {
      "cell_type": "code",
      "execution_count": 4,
      "metadata": {},
      "outputs": [
        {
          "name": "stdout",
          "output_type": "stream",
          "text": [
            "Dog\n",
            "2\n",
            "Dog\n",
            "Cat\n",
            "Stack Empty\n"
          ]
        }
      ],
      "source": [
        "print(s_1.peek())\n",
        "print(s_1.size())\n",
        "print(s_1.pop())\n",
        "print(s_1.pop())\n",
        "print(s_1.pop())"
      ]
    },
    {
      "cell_type": "code",
      "execution_count": 5,
      "metadata": {},
      "outputs": [
        {
          "name": "stdout",
          "output_type": "stream",
          "text": [
            "taC"
          ]
        }
      ],
      "source": [
        "# Reverses the characters passed in\n",
        "s_1.push(\"C\")\n",
        "s_1.push(\"a\")\n",
        "s_1.push(\"t\")\n",
        "s_1.reverse_string()"
      ]
    },
    {
      "cell_type": "code",
      "execution_count": 9,
      "metadata": {},
      "outputs": [],
      "source": [
        "# QUEUES : A collection that operates using First In\n",
        "# First Out logic. An example of this in the real\n",
        "# world would be a line. If you are the 1st there\n",
        "# you are served 1st.\n",
        "\n",
        "# Let's make a Queue using a List\n",
        "\n",
        "class Queue:\n",
        "    def __init__(self):\n",
        "        self.queue = []\n",
        "\n",
        "    # Adds value to Queue\n",
        "    def enqueue(self, data):\n",
        "        self.queue.insert(0, data)\n",
        "\n",
        "    def is_empty(self):\n",
        "        return self.queue == []\n",
        "\n",
        "    # Returns and deletes a value from Queue\n",
        "    def dequeue(self):\n",
        "        if self.is_empty():\n",
        "            return \"Queue Empty\"\n",
        "        return self.queue.pop()\n",
        "\n",
        "    def size(self):\n",
        "        return len(self.queue)\n",
        "\n",
        "    def peek(self):\n",
        "        return self.queue[0]\n",
        "\n",
        "    # This function will pause as each item has its turn\n",
        "    def wait_your_turn(self):\n",
        "        while True:\n",
        "            if len(self.queue) == 0:\n",
        "                break\n",
        "            else:\n",
        "                print(f\"{self.dequeue()} takes their turn\")\n",
        "                # Pause 3 seconds, wait while that animal takes it turn\n",
        "                time.sleep(3)\n"
      ]
    },
    {
      "cell_type": "code",
      "execution_count": 13,
      "metadata": {},
      "outputs": [
        {
          "name": "stdout",
          "output_type": "stream",
          "text": [
            "\n"
          ]
        }
      ],
      "source": [
        "print()\n",
        "q_1 = Queue()\n",
        "q_1.enqueue(\"Cat\")\n",
        "q_1.enqueue(\"Dog\")"
      ]
    },
    {
      "cell_type": "code",
      "execution_count": 14,
      "metadata": {},
      "outputs": [
        {
          "name": "stdout",
          "output_type": "stream",
          "text": [
            "2\n",
            "Dog\n",
            "Cat\n",
            "Dog\n",
            "Queue Empty\n"
          ]
        }
      ],
      "source": [
        "print(q_1.size())\n",
        "print(q_1.peek())\n",
        "print(q_1.dequeue())\n",
        "print(q_1.dequeue())\n",
        "print(q_1.dequeue())"
      ]
    },
    {
      "cell_type": "code",
      "execution_count": 15,
      "metadata": {},
      "outputs": [
        {
          "name": "stdout",
          "output_type": "stream",
          "text": [
            "Cat takes their turn\n",
            "Dog takes their turn\n"
          ]
        }
      ],
      "source": [
        "# Test turn taking function\n",
        "q_1.enqueue(\"Cat\")\n",
        "q_1.enqueue(\"Dog\")\n",
        "q_1.wait_your_turn()\n",
        "\n",
        "# # Next time I'll cover Deques and Lists"
      ]
    },
    {
      "cell_type": "markdown",
      "metadata": {},
      "source": [
        "# Stack problem from Ace the DS interview"
      ]
    },
    {
      "cell_type": "code",
      "execution_count": 4,
      "metadata": {},
      "outputs": [
        {
          "data": {
            "text/plain": [
              "False"
            ]
          },
          "execution_count": 4,
          "metadata": {},
          "output_type": "execute_result"
        }
      ],
      "source": [
        "def check_balance(s):\n",
        "    left_side =[\"(\",\"{\",\"[\"]\n",
        "    right_side = [\")\", \"}\", \"]\"]\n",
        "    stack = [] #stack\n",
        "    for i in s:\n",
        "        if i in left_side:\n",
        "            stack.append(i) # push onto stack\n",
        "        elif i in right_side:\n",
        "            pos = right_side.index(i) # get the right char\n",
        "        # check if they match\n",
        "            if len(stack) == 0 or (left_side[pos] != stack[len(stack) - 1]):\n",
        "                return False\n",
        "            else:\n",
        "                stack.pop() # remove and continue\n",
        "    if len(stack) == 0: #balanced\n",
        "        return True\n",
        "    else:\n",
        "        return False\n",
        "\n",
        "\n",
        "check_balance(\"{[())]}\")"
      ]
    }
  ],
  "metadata": {
    "anaconda-cloud": {},
    "kernelspec": {
      "display_name": "Python 3",
      "language": "python",
      "name": "python3"
    },
    "language_info": {
      "codemirror_mode": {
        "name": "ipython",
        "version": 3
      },
      "file_extension": ".py",
      "mimetype": "text/x-python",
      "name": "python",
      "nbconvert_exporter": "python",
      "pygments_lexer": "ipython3",
      "version": "3.9.7"
    }
  },
  "nbformat": 4,
  "nbformat_minor": 4
}
