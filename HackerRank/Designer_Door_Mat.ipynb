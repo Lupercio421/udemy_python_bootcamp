{
 "cells": [
  {
   "cell_type": "markdown",
   "metadata": {},
   "source": [
    "[Designer Door Mat](https://www.hackerrank.com/challenges/designer-door-mat/problem)"
   ]
  },
  {
   "cell_type": "markdown",
   "metadata": {},
   "source": [
    "Help from this [video](https://www.youtube.com/watch?v=IugHjA3FGso)"
   ]
  },
  {
   "cell_type": "code",
   "execution_count": 17,
   "metadata": {},
   "outputs": [
    {
     "name": "stdout",
     "output_type": "stream",
     "text": [
      "----------------------------.|.-----------------------------\n",
      "-------------------------.|..|..|.--------------------------\n",
      "----------------------.|..|..|..|..|.-----------------------\n",
      "-------------------.|..|..|..|..|..|..|.--------------------\n",
      "----------------.|..|..|..|..|..|..|..|..|.-----------------\n",
      "-------------.|..|..|..|..|..|..|..|..|..|..|.--------------\n",
      "----------.|..|..|..|..|..|..|..|..|..|..|..|..|.-----------\n",
      "-------.|..|..|..|..|..|..|..|..|..|..|..|..|..|..|.--------\n",
      "----.|..|..|..|..|..|..|..|..|..|..|..|..|..|..|..|..|.-----\n",
      "-.|..|..|..|..|..|..|..|..|..|..|..|..|..|..|..|..|..|..|.--\n",
      "--------------------------WELCOME---------------------------\n",
      "-.|..|..|..|..|..|..|..|..|..|..|..|..|..|..|..|..|..|..|.--\n",
      "----.|..|..|..|..|..|..|..|..|..|..|..|..|..|..|..|..|.-----\n",
      "-------.|..|..|..|..|..|..|..|..|..|..|..|..|..|..|.--------\n",
      "----------.|..|..|..|..|..|..|..|..|..|..|..|..|.-----------\n",
      "-------------.|..|..|..|..|..|..|..|..|..|..|.--------------\n",
      "----------------.|..|..|..|..|..|..|..|..|.-----------------\n",
      "-------------------.|..|..|..|..|..|..|.--------------------\n",
      "----------------------.|..|..|..|..|.-----------------------\n",
      "-------------------------.|..|..|.--------------------------\n",
      "----------------------------.|.-----------------------------\n"
     ]
    }
   ],
   "source": [
    "n,m = map(int,input().split())\n",
    "s1 = \".|.\"\n",
    "s2 = 'WELCOME'\n",
    "\n",
    "#part1-upper\n",
    "for i in range(n//2): #this is a integer value, and represents half of the design\n",
    "    print((s1*((i*2) + 1)).center(m,'-')) #we are printing the s1 patern an odd number of times on each line. when i = 0, s1 is printed 1 time and centered,\n",
    "    #when i = 2, s1 is printed 5 times and centered\n",
    "\n",
    "#part 2 - middle\n",
    "print(s2.center(m,'-')) #s2 is centered between 27 '-' characters\n",
    "\n",
    "#part 3 = lower\n",
    "for i in range((n//2)-1, -1, -1): #start is -1 bc it added an additional printed line under s2\n",
    "    #stop = -1, step = -1 for reverse ordering of the upper step\n",
    "    print((s1*((i*2) + 1)).center(m,'-'))\n"
   ]
  },
  {
   "cell_type": "markdown",
   "metadata": {},
   "source": [
    "With three arguments, the range() function returns integers from start through stop-1, adding step to each predecessor in the result. start, step defaults to 0,1 respectively"
   ]
  },
  {
   "cell_type": "code",
   "execution_count": 4,
   "metadata": {},
   "outputs": [
    {
     "name": "stdout",
     "output_type": "stream",
     "text": [
      "4\n"
     ]
    }
   ],
   "source": [
    "print(9//2)"
   ]
  }
 ],
 "metadata": {
  "interpreter": {
   "hash": "91570868dd58e24c3258a43a5f0558d480e2c3868fa9d87dac7912023fc84c5c"
  },
  "kernelspec": {
   "display_name": "Python 3.9.7 ('sfds')",
   "language": "python",
   "name": "python3"
  },
  "language_info": {
   "codemirror_mode": {
    "name": "ipython",
    "version": 3
   },
   "file_extension": ".py",
   "mimetype": "text/x-python",
   "name": "python",
   "nbconvert_exporter": "python",
   "pygments_lexer": "ipython3",
   "version": "3.9.7"
  },
  "orig_nbformat": 4
 },
 "nbformat": 4,
 "nbformat_minor": 2
}
